{
 "cells": [
  {
   "cell_type": "code",
   "execution_count": 1,
   "id": "c3301396",
   "metadata": {
    "id": "kDZZfBBw7fJv"
   },
   "outputs": [],
   "source": [
    "#sc.stop()\n",
    "from pyspark import SparkContext"
   ]
  },
  {
   "cell_type": "code",
   "execution_count": 2,
   "id": "92751257",
   "metadata": {
    "id": "Mce5o5y_7ulS",
    "scrolled": true
   },
   "outputs": [
    {
     "name": "stdout",
     "output_type": "stream",
     "text": [
      "22/08/27 04:05:24 WARN Utils: Your hostname, Manojhs-MacBook-Pro.local resolves to a loopback address: 127.0.0.1; using 192.168.29.35 instead (on interface en0)\n",
      "22/08/27 04:05:24 WARN Utils: Set SPARK_LOCAL_IP if you need to bind to another address\n"
     ]
    },
    {
     "name": "stderr",
     "output_type": "stream",
     "text": [
      "Setting default log level to \"WARN\".\n",
      "To adjust logging level use sc.setLogLevel(newLevel). For SparkR, use setLogLevel(newLevel).\n"
     ]
    },
    {
     "name": "stdout",
     "output_type": "stream",
     "text": [
      "22/08/27 04:05:25 WARN NativeCodeLoader: Unable to load native-hadoop library for your platform... using builtin-java classes where applicable\n",
      "22/08/27 04:05:26 WARN Utils: Service 'SparkUI' could not bind on port 4040. Attempting port 4041.\n",
      "22/08/27 04:05:26 WARN Utils: Service 'SparkUI' could not bind on port 4041. Attempting port 4042.\n",
      "22/08/27 04:05:26 WARN Utils: Service 'SparkUI' could not bind on port 4042. Attempting port 4043.\n",
      "22/08/27 04:05:26 WARN Utils: Service 'SparkUI' could not bind on port 4043. Attempting port 4044.\n",
      "22/08/27 04:05:26 WARN Utils: Service 'SparkUI' could not bind on port 4044. Attempting port 4045.\n"
     ]
    }
   ],
   "source": [
    "sc = SparkContext(master=\"local[2]\")"
   ]
  },
  {
   "cell_type": "code",
   "execution_count": 3,
   "id": "7e17225b",
   "metadata": {
    "colab": {
     "base_uri": "https://localhost:8080/",
     "height": 196
    },
    "id": "iWv3kvdc7ySa",
    "outputId": "8c7bfee9-0319-4e7b-db3d-5b3d555c3218",
    "scrolled": true
   },
   "outputs": [
    {
     "data": {
      "text/html": [
       "\n",
       "        <div>\n",
       "            <p><b>SparkContext</b></p>\n",
       "\n",
       "            <p><a href=\"http://192.168.29.35:4045\">Spark UI</a></p>\n",
       "\n",
       "            <dl>\n",
       "              <dt>Version</dt>\n",
       "                <dd><code>v3.3.0</code></dd>\n",
       "              <dt>Master</dt>\n",
       "                <dd><code>local[2]</code></dd>\n",
       "              <dt>AppName</dt>\n",
       "                <dd><code>pyspark-shell</code></dd>\n",
       "            </dl>\n",
       "        </div>\n",
       "        "
      ],
      "text/plain": [
       "<SparkContext master=local[2] appName=pyspark-shell>"
      ]
     },
     "execution_count": 3,
     "metadata": {},
     "output_type": "execute_result"
    }
   ],
   "source": [
    "sc"
   ]
  },
  {
   "cell_type": "code",
   "execution_count": 4,
   "id": "df31a279",
   "metadata": {
    "id": "mMsieOAE72wA"
   },
   "outputs": [],
   "source": [
    "import pyspark"
   ]
  },
  {
   "cell_type": "code",
   "execution_count": 5,
   "id": "ad3645c6",
   "metadata": {
    "id": "zn4Z_iR2747Q"
   },
   "outputs": [],
   "source": [
    "from pyspark.sql import SparkSession"
   ]
  },
  {
   "cell_type": "code",
   "execution_count": 6,
   "id": "d66318a1",
   "metadata": {
    "id": "yJbiiOwP76s5"
   },
   "outputs": [],
   "source": [
    "# Spark Session used for DF\n",
    "spark = SparkSession.builder.appName(\"MLwithSpark\").getOrCreate()"
   ]
  },
  {
   "cell_type": "markdown",
   "id": "a259e9a0",
   "metadata": {},
   "source": [
    "# Preprocessing for test data"
   ]
  },
  {
   "cell_type": "code",
   "execution_count": 7,
   "id": "11c0ec3e",
   "metadata": {
    "id": "dF2Zcjdr7-0G"
   },
   "outputs": [],
   "source": [
    "df_test = spark.read.csv(\"crime/test.csv\",header=True)"
   ]
  },
  {
   "cell_type": "code",
   "execution_count": 8,
   "id": "07c1c40d",
   "metadata": {
    "colab": {
     "base_uri": "https://localhost:8080/"
    },
    "id": "ZzeCFTBn8Fxw",
    "outputId": "0d4a258d-804c-4369-d49d-b9572b37528b",
    "scrolled": false
   },
   "outputs": [
    {
     "name": "stdout",
     "output_type": "stream",
     "text": [
      "+---+-------------------+---------+----------+--------------------+-------------------+------------------+\n",
      "| Id|              Dates|DayOfWeek|PdDistrict|             Address|                  X|                 Y|\n",
      "+---+-------------------+---------+----------+--------------------+-------------------+------------------+\n",
      "|  0|2015-05-10 23:59:00|   Sunday|   BAYVIEW|2000 Block of THO...|-122.39958770418998|  37.7350510103906|\n",
      "|  1|2015-05-10 23:51:00|   Sunday|   BAYVIEW|  3RD ST / REVERE AV|  -122.391522893042|  37.7324323864471|\n",
      "|  2|2015-05-10 23:50:00|   Sunday|  NORTHERN|2000 Block of GOU...|  -122.426001954961|  37.7922124386284|\n",
      "|  3|2015-05-10 23:45:00|   Sunday| INGLESIDE|4700 Block of MIS...|  -122.437393972517|  37.7214120621391|\n",
      "|  4|2015-05-10 23:45:00|   Sunday| INGLESIDE|4700 Block of MIS...|  -122.437393972517|  37.7214120621391|\n",
      "|  5|2015-05-10 23:40:00|   Sunday|   TARAVAL|BROAD ST / CAPITO...|-122.45902362242902|  37.7131719025215|\n",
      "|  6|2015-05-10 23:30:00|   Sunday| INGLESIDE|100 Block of CHEN...|-122.42561645123001| 37.73935051446279|\n",
      "|  7|2015-05-10 23:30:00|   Sunday| INGLESIDE|200 Block of BANK...|-122.41265203979201|37.739750156312105|\n",
      "|  8|2015-05-10 23:10:00|   Sunday|   MISSION|2900 Block of 16T...|  -122.418700097043|  37.7651649409646|\n",
      "|  9|2015-05-10 23:10:00|   Sunday|   CENTRAL|TAYLOR ST / GREEN ST|  -122.413934584561|37.798886450641604|\n",
      "| 10|2015-05-10 23:00:00|   Sunday| INGLESIDE|100 Block of PERA...|-122.40860777448499|  37.7467873555673|\n",
      "| 11|2015-05-10 23:00:00|   Sunday|   MISSION|600 Block of FLOR...|  -122.411093822635|  37.7610475742041|\n",
      "| 12|2015-05-10 23:00:00|   Sunday|   MISSION|600 Block of FLOR...|  -122.411093822635|  37.7610475742041|\n",
      "| 13|2015-05-10 23:00:00|   Sunday|   CENTRAL|200 Block of VALL...|  -122.402130610278|  37.7993635026487|\n",
      "| 14|2015-05-10 23:00:00|   Sunday|   CENTRAL|JEFFERSON ST / HY...|  -122.420747467177|  37.8075877427735|\n",
      "| 15|2015-05-10 22:50:00|   Sunday|TENDERLOIN|GOLDEN GATE AV / ...|  -122.415508242782|  37.7816542806076|\n",
      "| 16|2015-05-10 22:36:00|   Sunday|   TARAVAL|1200 Block of OCE...|-122.45567852962401|  37.7237017394146|\n",
      "| 17|2015-05-10 22:00:00|   Sunday| INGLESIDE|1200 Block of GIR...|  -122.400298318649|  37.7171808374172|\n",
      "| 18|2015-05-10 22:00:00|   Sunday|  NORTHERN|1900 Block of FIL...|  -122.433668534709|   37.787708547267|\n",
      "| 19|2015-05-10 22:00:00|   Sunday|  NORTHERN|  GREEN ST / POLK ST|  -122.422149614358|  37.7978243786265|\n",
      "+---+-------------------+---------+----------+--------------------+-------------------+------------------+\n",
      "only showing top 20 rows\n",
      "\n"
     ]
    }
   ],
   "source": [
    "df_test.show(20)"
   ]
  },
  {
   "cell_type": "code",
   "execution_count": 9,
   "id": "a39cb6dc",
   "metadata": {
    "colab": {
     "base_uri": "https://localhost:8080/"
    },
    "id": "aGLJym-eGMTy",
    "outputId": "0f24d049-9e18-44eb-fb40-ad7a7bb7a56e",
    "scrolled": true
   },
   "outputs": [
    {
     "data": {
      "text/plain": [
       "[('Id', 'string'),\n",
       " ('Dates', 'string'),\n",
       " ('DayOfWeek', 'string'),\n",
       " ('PdDistrict', 'string'),\n",
       " ('Address', 'string'),\n",
       " ('X', 'string'),\n",
       " ('Y', 'string')]"
      ]
     },
     "execution_count": 9,
     "metadata": {},
     "output_type": "execute_result"
    }
   ],
   "source": [
    "df_test.dtypes"
   ]
  },
  {
   "cell_type": "code",
   "execution_count": 10,
   "id": "fd5895a5",
   "metadata": {
    "colab": {
     "base_uri": "https://localhost:8080/"
    },
    "id": "d6ESwS388J6L",
    "outputId": "a46fc1cc-0dcd-4cb8-b809-1ae448852511",
    "scrolled": true
   },
   "outputs": [
    {
     "name": "stderr",
     "output_type": "stream",
     "text": [
      "\r",
      "[Stage 2:>                                                          (0 + 2) / 2]\r"
     ]
    },
    {
     "name": "stdout",
     "output_type": "stream",
     "text": [
      "+----+-------------------+---------+----------+--------------------+-------------------+------------------+\n",
      "|  Id|              Dates|DayOfWeek|PdDistrict|             Address|                  X|                 Y|\n",
      "+----+-------------------+---------+----------+--------------------+-------------------+------------------+\n",
      "| 454|2015-05-09 18:34:00| Saturday|  SOUTHERN|900 Block of HOWA...|-122.40650848700301|  37.7803313209065|\n",
      "| 540|2015-05-09 14:15:00| Saturday|   CENTRAL| FRONT ST / GREEN ST|  -122.400252662923|  37.8006075195541|\n",
      "| 620|2015-05-09 10:00:00| Saturday|TENDERLOIN|TURK ST / LEAVENW...|  -122.414056291891|  37.7827931071006|\n",
      "|1032|2015-05-08 10:00:00|   Friday|   BAYVIEW|1400 Block of SIL...|   -122.40804870235| 37.73175041425571|\n",
      "|1140|2015-05-07 23:00:00| Thursday|   TARAVAL|RALSTON ST / GARF...|-122.46894994470101|  37.7196568106946|\n",
      "|1164|2015-05-07 21:45:00| Thursday|TENDERLOIN|HYDE ST / MCALLIS...|-122.41531796699199|  37.7807179285998|\n",
      "|1250|2015-05-07 18:27:00| Thursday| INGLESIDE|100 Block of BLYT...|-122.42055675144199|  37.7108945814914|\n",
      "|1874|2015-05-06 10:07:00|Wednesday|   MISSION|1000 Block of POT...|  -122.406539115148|  37.7564864109309|\n",
      "|2196|2015-05-05 16:19:00|  Tuesday|      PARK|1500 Block of HAI...|   -122.44776112232|  37.7698464875415|\n",
      "|2232|2015-05-05 15:00:00|  Tuesday|   CENTRAL|500 Block of NORT...|  -122.416280805077|  37.8062946812333|\n",
      "|2553|2015-05-04 17:50:00|   Monday| INGLESIDE|OCEAN AV / OTSEGO AV|  -122.441049163425|37.723342039328706|\n",
      "|2557|2015-05-04 17:32:00|   Monday|  SOUTHERN| 500 Block of 3RD ST|  -122.395729616259|37.781152902723896|\n",
      "|2577|2015-05-04 17:00:00|   Monday|  RICHMOND|800 Block of LA P...|    -122.5100335576|37.772306555995605|\n",
      "|2611|2015-05-04 15:30:00|   Monday|   CENTRAL|700 Block of VALL...|-122.40979166229299|  37.7985083480435|\n",
      "|2721|2015-05-04 08:00:00|   Monday|      PARK|0 Block of CASTRO ST|  -122.435637436721|  37.7681694346175|\n",
      "|2860|2015-04-26 20:05:00|   Sunday|  SOUTHERN| 100 Block of 4TH ST|    -122.4039407276|37.784300707234394|\n",
      "|2880|2015-04-26 19:30:00|   Sunday|   CENTRAL|400 Block of PACI...|   -122.40330682057|37.797399705477204|\n",
      "|3100|2015-04-26 07:15:00|   Sunday|   BAYVIEW|ILLINOIS ST / 20T...|  -122.387571306252|37.760549956514396|\n",
      "|3404|2015-04-25 14:15:00| Saturday|   BAYVIEW|MISSISSIPPI ST / ...|   -122.39459795594|  37.7626979203815|\n",
      "|3638|2015-04-24 21:30:00|   Friday|   CENTRAL|1800 Block of JON...|  -122.415411671973|  37.7982324630601|\n",
      "+----+-------------------+---------+----------+--------------------+-------------------+------------------+\n",
      "only showing top 20 rows\n",
      "\n"
     ]
    },
    {
     "name": "stderr",
     "output_type": "stream",
     "text": [
      "\r",
      "                                                                                \r"
     ]
    }
   ],
   "source": [
    "df_test.dropDuplicates().show()"
   ]
  },
  {
   "cell_type": "code",
   "execution_count": 11,
   "id": "d00cb091",
   "metadata": {
    "colab": {
     "base_uri": "https://localhost:8080/"
    },
    "id": "6xvzV6OYMUyC",
    "outputId": "cf3e0a5e-843a-4b22-deb1-89563c3da38c",
    "scrolled": true
   },
   "outputs": [
    {
     "name": "stdout",
     "output_type": "stream",
     "text": [
      "+-------------------+---------+----------+-------------------+------------------+\n",
      "|              Dates|DayOfWeek|PdDistrict|                  X|                 Y|\n",
      "+-------------------+---------+----------+-------------------+------------------+\n",
      "|2015-05-10 23:59:00|   Sunday|   BAYVIEW|-122.39958770418998|  37.7350510103906|\n",
      "|2015-05-10 23:51:00|   Sunday|   BAYVIEW|  -122.391522893042|  37.7324323864471|\n",
      "|2015-05-10 23:50:00|   Sunday|  NORTHERN|  -122.426001954961|  37.7922124386284|\n",
      "|2015-05-10 23:45:00|   Sunday| INGLESIDE|  -122.437393972517|  37.7214120621391|\n",
      "|2015-05-10 23:45:00|   Sunday| INGLESIDE|  -122.437393972517|  37.7214120621391|\n",
      "|2015-05-10 23:40:00|   Sunday|   TARAVAL|-122.45902362242902|  37.7131719025215|\n",
      "|2015-05-10 23:30:00|   Sunday| INGLESIDE|-122.42561645123001| 37.73935051446279|\n",
      "|2015-05-10 23:30:00|   Sunday| INGLESIDE|-122.41265203979201|37.739750156312105|\n",
      "|2015-05-10 23:10:00|   Sunday|   MISSION|  -122.418700097043|  37.7651649409646|\n",
      "|2015-05-10 23:10:00|   Sunday|   CENTRAL|  -122.413934584561|37.798886450641604|\n",
      "|2015-05-10 23:00:00|   Sunday| INGLESIDE|-122.40860777448499|  37.7467873555673|\n",
      "|2015-05-10 23:00:00|   Sunday|   MISSION|  -122.411093822635|  37.7610475742041|\n",
      "|2015-05-10 23:00:00|   Sunday|   MISSION|  -122.411093822635|  37.7610475742041|\n",
      "|2015-05-10 23:00:00|   Sunday|   CENTRAL|  -122.402130610278|  37.7993635026487|\n",
      "|2015-05-10 23:00:00|   Sunday|   CENTRAL|  -122.420747467177|  37.8075877427735|\n",
      "|2015-05-10 22:50:00|   Sunday|TENDERLOIN|  -122.415508242782|  37.7816542806076|\n",
      "|2015-05-10 22:36:00|   Sunday|   TARAVAL|-122.45567852962401|  37.7237017394146|\n",
      "|2015-05-10 22:00:00|   Sunday| INGLESIDE|  -122.400298318649|  37.7171808374172|\n",
      "|2015-05-10 22:00:00|   Sunday|  NORTHERN|  -122.433668534709|   37.787708547267|\n",
      "|2015-05-10 22:00:00|   Sunday|  NORTHERN|  -122.422149614358|  37.7978243786265|\n",
      "+-------------------+---------+----------+-------------------+------------------+\n",
      "only showing top 20 rows\n",
      "\n"
     ]
    }
   ],
   "source": [
    "df_test=df_test.drop('Id','Address')\n",
    "df_test.show()"
   ]
  },
  {
   "cell_type": "code",
   "execution_count": 12,
   "id": "bb151e39",
   "metadata": {
    "colab": {
     "base_uri": "https://localhost:8080/"
    },
    "id": "I7IV1VqXMt1j",
    "outputId": "916475d4-8584-49fa-ebd0-5f2e5bcbd506"
   },
   "outputs": [
    {
     "name": "stderr",
     "output_type": "stream",
     "text": [
      "/opt/anaconda3/lib/python3.9/site-packages/pyspark/sql/column.py:419: FutureWarning: A column as 'key' in getItem is deprecated as of Spark 3.0, and will not be supported in the future release. Use `column[key]` or `column.key` syntax instead.\n",
      "  warnings.warn(\n",
      "                                                                                \r"
     ]
    },
    {
     "name": "stdout",
     "output_type": "stream",
     "text": [
      "+-------------------+---------+----------+-------------------+------------------+--------+\n",
      "|              Dates|DayofWeek|PdDistrict|                  X|                 Y|District|\n",
      "+-------------------+---------+----------+-------------------+------------------+--------+\n",
      "|2015-05-10 23:59:00|      6.0|   BAYVIEW|-122.39958770418998|  37.7350510103906|       2|\n",
      "|2015-05-10 23:51:00|      6.0|   BAYVIEW|  -122.391522893042|  37.7324323864471|       2|\n",
      "|2015-05-10 23:50:00|      6.0|  NORTHERN|  -122.426001954961|  37.7922124386284|      10|\n",
      "|2015-05-10 23:45:00|      6.0| INGLESIDE|  -122.437393972517|  37.7214120621391|       6|\n",
      "|2015-05-10 23:45:00|      6.0| INGLESIDE|  -122.437393972517|  37.7214120621391|       6|\n",
      "|2015-05-10 23:40:00|      6.0|   TARAVAL|-122.45902362242902|  37.7131719025215|       4|\n",
      "|2015-05-10 23:30:00|      6.0| INGLESIDE|-122.42561645123001| 37.73935051446279|       6|\n",
      "|2015-05-10 23:30:00|      6.0| INGLESIDE|-122.41265203979201|37.739750156312105|       6|\n",
      "|2015-05-10 23:10:00|      6.0|   MISSION|  -122.418700097043|  37.7651649409646|       1|\n",
      "|2015-05-10 23:10:00|      6.0|   CENTRAL|  -122.413934584561|37.798886450641604|       3|\n",
      "|2015-05-10 23:00:00|      6.0| INGLESIDE|-122.40860777448499|  37.7467873555673|       6|\n",
      "|2015-05-10 23:00:00|      6.0|   MISSION|  -122.411093822635|  37.7610475742041|       1|\n",
      "|2015-05-10 23:00:00|      6.0|   MISSION|  -122.411093822635|  37.7610475742041|       1|\n",
      "|2015-05-10 23:00:00|      6.0|   CENTRAL|  -122.402130610278|  37.7993635026487|       3|\n",
      "|2015-05-10 23:00:00|      6.0|   CENTRAL|  -122.420747467177|  37.8075877427735|       3|\n",
      "|2015-05-10 22:50:00|      6.0|TENDERLOIN|  -122.415508242782|  37.7816542806076|       5|\n",
      "|2015-05-10 22:36:00|      6.0|   TARAVAL|-122.45567852962401|  37.7237017394146|       4|\n",
      "|2015-05-10 22:00:00|      6.0| INGLESIDE|  -122.400298318649|  37.7171808374172|       6|\n",
      "|2015-05-10 22:00:00|      6.0|  NORTHERN|  -122.433668534709|   37.787708547267|      10|\n",
      "|2015-05-10 22:00:00|      6.0|  NORTHERN|  -122.422149614358|  37.7978243786265|      10|\n",
      "+-------------------+---------+----------+-------------------+------------------+--------+\n",
      "only showing top 20 rows\n",
      "\n"
     ]
    }
   ],
   "source": [
    "#Convert non numerical to numerical\n",
    "from pyspark.sql.functions import *\n",
    "from itertools import chain\n",
    "\n",
    "pddis={'MISSION':1,'BAYVIEW':2,'CENTRAL':3,'TARAVAL':4, 'TENDERLOIN':5,'INGLESIDE':6, 'PARK':7,'SOUTHERN':8, 'RICHMOND':9,'NORTHERN':10}\n",
    "mapping_expr2 = create_map([lit(x) for x in chain(*pddis.items())])\n",
    "df_test=df_test.withColumn(\"District\", mapping_expr2.getItem(col(\"PdDistrict\")))\n",
    "\n",
    "from pyspark.ml.feature import StringIndexer \n",
    "index= StringIndexer(inputCol=\"DayOfWeek\" , outputCol=\"DayofWeek\")\n",
    "df_test= index.fit(df_test).transform(df_test)\n",
    "df_test.show()"
   ]
  },
  {
   "cell_type": "code",
   "execution_count": 13,
   "id": "1034b555",
   "metadata": {
    "colab": {
     "base_uri": "https://localhost:8080/"
    },
    "id": "LW7FQzNjN9OG",
    "outputId": "9e8330c6-0e06-4d00-aef8-fbf64233329d",
    "scrolled": true
   },
   "outputs": [
    {
     "name": "stdout",
     "output_type": "stream",
     "text": [
      "+-------------------+---------+----------+-------------------+------------------+--------+\n",
      "|              Dates|DayofWeek|PdDistrict|                  X|                 Y|District|\n",
      "+-------------------+---------+----------+-------------------+------------------+--------+\n",
      "|2015-05-10 23:59:00|      6.0|   BAYVIEW|-122.39958770418998|  37.7350510103906|       2|\n",
      "|2015-05-10 23:51:00|      6.0|   BAYVIEW|  -122.391522893042|  37.7324323864471|       2|\n",
      "|2015-05-10 23:50:00|      6.0|  NORTHERN|  -122.426001954961|  37.7922124386284|      10|\n",
      "|2015-05-10 23:45:00|      6.0| INGLESIDE|  -122.437393972517|  37.7214120621391|       6|\n",
      "|2015-05-10 23:45:00|      6.0| INGLESIDE|  -122.437393972517|  37.7214120621391|       6|\n",
      "|2015-05-10 23:40:00|      6.0|   TARAVAL|-122.45902362242902|  37.7131719025215|       4|\n",
      "|2015-05-10 23:30:00|      6.0| INGLESIDE|-122.42561645123001| 37.73935051446279|       6|\n",
      "|2015-05-10 23:30:00|      6.0| INGLESIDE|-122.41265203979201|37.739750156312105|       6|\n",
      "|2015-05-10 23:10:00|      6.0|   MISSION|  -122.418700097043|  37.7651649409646|       1|\n",
      "|2015-05-10 23:10:00|      6.0|   CENTRAL|  -122.413934584561|37.798886450641604|       3|\n",
      "|2015-05-10 23:00:00|      6.0| INGLESIDE|-122.40860777448499|  37.7467873555673|       6|\n",
      "|2015-05-10 23:00:00|      6.0|   MISSION|  -122.411093822635|  37.7610475742041|       1|\n",
      "|2015-05-10 23:00:00|      6.0|   MISSION|  -122.411093822635|  37.7610475742041|       1|\n",
      "|2015-05-10 23:00:00|      6.0|   CENTRAL|  -122.402130610278|  37.7993635026487|       3|\n",
      "|2015-05-10 23:00:00|      6.0|   CENTRAL|  -122.420747467177|  37.8075877427735|       3|\n",
      "|2015-05-10 22:50:00|      6.0|TENDERLOIN|  -122.415508242782|  37.7816542806076|       5|\n",
      "|2015-05-10 22:36:00|      6.0|   TARAVAL|-122.45567852962401|  37.7237017394146|       4|\n",
      "|2015-05-10 22:00:00|      6.0| INGLESIDE|  -122.400298318649|  37.7171808374172|       6|\n",
      "|2015-05-10 22:00:00|      6.0|  NORTHERN|  -122.433668534709|   37.787708547267|      10|\n",
      "|2015-05-10 22:00:00|      6.0|  NORTHERN|  -122.422149614358|  37.7978243786265|      10|\n",
      "+-------------------+---------+----------+-------------------+------------------+--------+\n",
      "only showing top 20 rows\n",
      "\n"
     ]
    }
   ],
   "source": [
    "from pyspark.sql.types import DoubleType\n",
    "df_test = df_test.withColumn(\"X\", df_test[\"X\"].cast(DoubleType()))\n",
    "df_test = df_test.withColumn(\"Y\", df_test[\"Y\"].cast(DoubleType()))\n",
    "df_test.show()"
   ]
  },
  {
   "cell_type": "code",
   "execution_count": 14,
   "id": "eb03fe6b",
   "metadata": {
    "colab": {
     "base_uri": "https://localhost:8080/"
    },
    "id": "KngRC-mm6P8v",
    "outputId": "176df274-b6b1-4b0d-eada-76f810e5a0b3",
    "scrolled": true
   },
   "outputs": [
    {
     "name": "stdout",
     "output_type": "stream",
     "text": [
      "+-------------------+---------+-------------------+------------------+--------+\n",
      "|              Dates|DayofWeek|                  X|                 Y|District|\n",
      "+-------------------+---------+-------------------+------------------+--------+\n",
      "|2015-05-10 23:59:00|      6.0|-122.39958770418998|  37.7350510103906|       2|\n",
      "|2015-05-10 23:51:00|      6.0|  -122.391522893042|  37.7324323864471|       2|\n",
      "|2015-05-10 23:50:00|      6.0|  -122.426001954961|  37.7922124386284|      10|\n",
      "|2015-05-10 23:45:00|      6.0|  -122.437393972517|  37.7214120621391|       6|\n",
      "|2015-05-10 23:45:00|      6.0|  -122.437393972517|  37.7214120621391|       6|\n",
      "|2015-05-10 23:40:00|      6.0|-122.45902362242902|  37.7131719025215|       4|\n",
      "|2015-05-10 23:30:00|      6.0|-122.42561645123001| 37.73935051446279|       6|\n",
      "|2015-05-10 23:30:00|      6.0|-122.41265203979201|37.739750156312105|       6|\n",
      "|2015-05-10 23:10:00|      6.0|  -122.418700097043|  37.7651649409646|       1|\n",
      "|2015-05-10 23:10:00|      6.0|  -122.413934584561|37.798886450641604|       3|\n",
      "|2015-05-10 23:00:00|      6.0|-122.40860777448499|  37.7467873555673|       6|\n",
      "|2015-05-10 23:00:00|      6.0|  -122.411093822635|  37.7610475742041|       1|\n",
      "|2015-05-10 23:00:00|      6.0|  -122.411093822635|  37.7610475742041|       1|\n",
      "|2015-05-10 23:00:00|      6.0|  -122.402130610278|  37.7993635026487|       3|\n",
      "|2015-05-10 23:00:00|      6.0|  -122.420747467177|  37.8075877427735|       3|\n",
      "|2015-05-10 22:50:00|      6.0|  -122.415508242782|  37.7816542806076|       5|\n",
      "|2015-05-10 22:36:00|      6.0|-122.45567852962401|  37.7237017394146|       4|\n",
      "|2015-05-10 22:00:00|      6.0|  -122.400298318649|  37.7171808374172|       6|\n",
      "|2015-05-10 22:00:00|      6.0|  -122.433668534709|   37.787708547267|      10|\n",
      "|2015-05-10 22:00:00|      6.0|  -122.422149614358|  37.7978243786265|      10|\n",
      "+-------------------+---------+-------------------+------------------+--------+\n",
      "only showing top 20 rows\n",
      "\n"
     ]
    }
   ],
   "source": [
    "df_test=df_test.drop('PdDistrict')\n",
    "df_test.show()"
   ]
  },
  {
   "cell_type": "code",
   "execution_count": 15,
   "id": "e741ef74",
   "metadata": {
    "colab": {
     "base_uri": "https://localhost:8080/"
    },
    "id": "s55GjZPaPRgC",
    "outputId": "f022cf63-6f13-477c-d198-efaa7711d280",
    "scrolled": true
   },
   "outputs": [
    {
     "data": {
      "text/plain": [
       "[('Dates', 'string'),\n",
       " ('DayofWeek', 'double'),\n",
       " ('X', 'double'),\n",
       " ('Y', 'double'),\n",
       " ('District', 'int')]"
      ]
     },
     "execution_count": 15,
     "metadata": {},
     "output_type": "execute_result"
    }
   ],
   "source": [
    "df_test.dtypes"
   ]
  },
  {
   "cell_type": "code",
   "execution_count": 16,
   "id": "90812a7a",
   "metadata": {
    "id": "vwwvAZuUvLnk"
   },
   "outputs": [],
   "source": [
    "import pyspark.sql.functions as F\n",
    "split_col = pyspark.sql.functions.split(df_test['Dates'], ' ')\n",
    "df_test = df_test.withColumn('Date', split_col.getItem(0))\n",
    "df_test = df_test.withColumn('Time', split_col.getItem(1))"
   ]
  },
  {
   "cell_type": "code",
   "execution_count": 17,
   "id": "0299804f",
   "metadata": {
    "colab": {
     "base_uri": "https://localhost:8080/"
    },
    "id": "9kvk8tmlWCj0",
    "outputId": "a0a95184-5295-4b83-d91e-c03ffd5442e1"
   },
   "outputs": [
    {
     "name": "stdout",
     "output_type": "stream",
     "text": [
      "+-------------------+---------+-------------------+------------------+--------+----------+--------+----+-----+---+-----+----+----+\n",
      "|              Dates|DayofWeek|                  X|                 Y|District|      Date|    Time|Year|Month|Day|Hours|Mins|Secs|\n",
      "+-------------------+---------+-------------------+------------------+--------+----------+--------+----+-----+---+-----+----+----+\n",
      "|2015-05-10 23:59:00|      6.0|-122.39958770418998|  37.7350510103906|       2|2015-05-10|23:59:00|2015|   05| 10|   23|  59|  00|\n",
      "|2015-05-10 23:51:00|      6.0|  -122.391522893042|  37.7324323864471|       2|2015-05-10|23:51:00|2015|   05| 10|   23|  51|  00|\n",
      "|2015-05-10 23:50:00|      6.0|  -122.426001954961|  37.7922124386284|      10|2015-05-10|23:50:00|2015|   05| 10|   23|  50|  00|\n",
      "|2015-05-10 23:45:00|      6.0|  -122.437393972517|  37.7214120621391|       6|2015-05-10|23:45:00|2015|   05| 10|   23|  45|  00|\n",
      "|2015-05-10 23:45:00|      6.0|  -122.437393972517|  37.7214120621391|       6|2015-05-10|23:45:00|2015|   05| 10|   23|  45|  00|\n",
      "|2015-05-10 23:40:00|      6.0|-122.45902362242902|  37.7131719025215|       4|2015-05-10|23:40:00|2015|   05| 10|   23|  40|  00|\n",
      "|2015-05-10 23:30:00|      6.0|-122.42561645123001| 37.73935051446279|       6|2015-05-10|23:30:00|2015|   05| 10|   23|  30|  00|\n",
      "|2015-05-10 23:30:00|      6.0|-122.41265203979201|37.739750156312105|       6|2015-05-10|23:30:00|2015|   05| 10|   23|  30|  00|\n",
      "|2015-05-10 23:10:00|      6.0|  -122.418700097043|  37.7651649409646|       1|2015-05-10|23:10:00|2015|   05| 10|   23|  10|  00|\n",
      "|2015-05-10 23:10:00|      6.0|  -122.413934584561|37.798886450641604|       3|2015-05-10|23:10:00|2015|   05| 10|   23|  10|  00|\n",
      "|2015-05-10 23:00:00|      6.0|-122.40860777448499|  37.7467873555673|       6|2015-05-10|23:00:00|2015|   05| 10|   23|  00|  00|\n",
      "|2015-05-10 23:00:00|      6.0|  -122.411093822635|  37.7610475742041|       1|2015-05-10|23:00:00|2015|   05| 10|   23|  00|  00|\n",
      "|2015-05-10 23:00:00|      6.0|  -122.411093822635|  37.7610475742041|       1|2015-05-10|23:00:00|2015|   05| 10|   23|  00|  00|\n",
      "|2015-05-10 23:00:00|      6.0|  -122.402130610278|  37.7993635026487|       3|2015-05-10|23:00:00|2015|   05| 10|   23|  00|  00|\n",
      "|2015-05-10 23:00:00|      6.0|  -122.420747467177|  37.8075877427735|       3|2015-05-10|23:00:00|2015|   05| 10|   23|  00|  00|\n",
      "|2015-05-10 22:50:00|      6.0|  -122.415508242782|  37.7816542806076|       5|2015-05-10|22:50:00|2015|   05| 10|   22|  50|  00|\n",
      "|2015-05-10 22:36:00|      6.0|-122.45567852962401|  37.7237017394146|       4|2015-05-10|22:36:00|2015|   05| 10|   22|  36|  00|\n",
      "|2015-05-10 22:00:00|      6.0|  -122.400298318649|  37.7171808374172|       6|2015-05-10|22:00:00|2015|   05| 10|   22|  00|  00|\n",
      "|2015-05-10 22:00:00|      6.0|  -122.433668534709|   37.787708547267|      10|2015-05-10|22:00:00|2015|   05| 10|   22|  00|  00|\n",
      "|2015-05-10 22:00:00|      6.0|  -122.422149614358|  37.7978243786265|      10|2015-05-10|22:00:00|2015|   05| 10|   22|  00|  00|\n",
      "+-------------------+---------+-------------------+------------------+--------+----------+--------+----+-----+---+-----+----+----+\n",
      "only showing top 20 rows\n",
      "\n"
     ]
    }
   ],
   "source": [
    "split_col = pyspark.sql.functions.split(df_test['Date'], '-')\n",
    "df_test = df_test.withColumn('Year', split_col.getItem(0))\n",
    "df_test = df_test.withColumn('Month', split_col.getItem(1))\n",
    "df_test = df_test.withColumn('Day', split_col.getItem(2))\n",
    "split_col = pyspark.sql.functions.split(df_test['Time'], ':')\n",
    "df_test = df_test.withColumn('Hours', split_col.getItem(0))\n",
    "df_test = df_test.withColumn('Mins', split_col.getItem(1))\n",
    "df_test = df_test.withColumn('Secs', split_col.getItem(2))\n",
    "df_test.show()"
   ]
  },
  {
   "cell_type": "code",
   "execution_count": 18,
   "id": "71f2eedb",
   "metadata": {
    "id": "Ai0VB8AjXZyC"
   },
   "outputs": [],
   "source": [
    "df_test=df_test.drop('Dates','Time','Date')"
   ]
  },
  {
   "cell_type": "code",
   "execution_count": 19,
   "id": "e07bfb1c",
   "metadata": {
    "colab": {
     "base_uri": "https://localhost:8080/"
    },
    "id": "e1G-MMjuXdCG",
    "outputId": "a0d1ed6a-c2e5-40de-8184-dee89a964de7",
    "scrolled": true
   },
   "outputs": [
    {
     "name": "stdout",
     "output_type": "stream",
     "text": [
      "+---------+-------------------+------------------+--------+----+-----+---+-----+----+----+\n",
      "|DayofWeek|                  X|                 Y|District|Year|Month|Day|Hours|Mins|Secs|\n",
      "+---------+-------------------+------------------+--------+----+-----+---+-----+----+----+\n",
      "|      6.0|-122.39958770418998|  37.7350510103906|       2|2015|   05| 10|   23|  59|  00|\n",
      "|      6.0|  -122.391522893042|  37.7324323864471|       2|2015|   05| 10|   23|  51|  00|\n",
      "|      6.0|  -122.426001954961|  37.7922124386284|      10|2015|   05| 10|   23|  50|  00|\n",
      "|      6.0|  -122.437393972517|  37.7214120621391|       6|2015|   05| 10|   23|  45|  00|\n",
      "|      6.0|  -122.437393972517|  37.7214120621391|       6|2015|   05| 10|   23|  45|  00|\n",
      "|      6.0|-122.45902362242902|  37.7131719025215|       4|2015|   05| 10|   23|  40|  00|\n",
      "|      6.0|-122.42561645123001| 37.73935051446279|       6|2015|   05| 10|   23|  30|  00|\n",
      "|      6.0|-122.41265203979201|37.739750156312105|       6|2015|   05| 10|   23|  30|  00|\n",
      "|      6.0|  -122.418700097043|  37.7651649409646|       1|2015|   05| 10|   23|  10|  00|\n",
      "|      6.0|  -122.413934584561|37.798886450641604|       3|2015|   05| 10|   23|  10|  00|\n",
      "|      6.0|-122.40860777448499|  37.7467873555673|       6|2015|   05| 10|   23|  00|  00|\n",
      "|      6.0|  -122.411093822635|  37.7610475742041|       1|2015|   05| 10|   23|  00|  00|\n",
      "|      6.0|  -122.411093822635|  37.7610475742041|       1|2015|   05| 10|   23|  00|  00|\n",
      "|      6.0|  -122.402130610278|  37.7993635026487|       3|2015|   05| 10|   23|  00|  00|\n",
      "|      6.0|  -122.420747467177|  37.8075877427735|       3|2015|   05| 10|   23|  00|  00|\n",
      "|      6.0|  -122.415508242782|  37.7816542806076|       5|2015|   05| 10|   22|  50|  00|\n",
      "|      6.0|-122.45567852962401|  37.7237017394146|       4|2015|   05| 10|   22|  36|  00|\n",
      "|      6.0|  -122.400298318649|  37.7171808374172|       6|2015|   05| 10|   22|  00|  00|\n",
      "|      6.0|  -122.433668534709|   37.787708547267|      10|2015|   05| 10|   22|  00|  00|\n",
      "|      6.0|  -122.422149614358|  37.7978243786265|      10|2015|   05| 10|   22|  00|  00|\n",
      "+---------+-------------------+------------------+--------+----+-----+---+-----+----+----+\n",
      "only showing top 20 rows\n",
      "\n"
     ]
    }
   ],
   "source": [
    "df_test.show()"
   ]
  },
  {
   "cell_type": "code",
   "execution_count": 20,
   "id": "425c483b",
   "metadata": {
    "colab": {
     "base_uri": "https://localhost:8080/"
    },
    "id": "aQ0HUryzX_bB",
    "outputId": "3a0c29a7-35dd-4dec-b980-a8be070e20a4",
    "scrolled": true
   },
   "outputs": [
    {
     "data": {
      "text/plain": [
       "[('DayofWeek', 'double'),\n",
       " ('X', 'double'),\n",
       " ('Y', 'double'),\n",
       " ('District', 'int'),\n",
       " ('Year', 'string'),\n",
       " ('Month', 'string'),\n",
       " ('Day', 'string'),\n",
       " ('Hours', 'string'),\n",
       " ('Mins', 'string'),\n",
       " ('Secs', 'string')]"
      ]
     },
     "execution_count": 20,
     "metadata": {},
     "output_type": "execute_result"
    }
   ],
   "source": [
    "df_test.dtypes"
   ]
  },
  {
   "cell_type": "code",
   "execution_count": 21,
   "id": "9524af6d",
   "metadata": {},
   "outputs": [
    {
     "name": "stderr",
     "output_type": "stream",
     "text": [
      "                                                                                \r"
     ]
    }
   ],
   "source": [
    "#normalize X and Y\n",
    "from pyspark.ml.feature import VectorAssembler, StandardScaler\n",
    "from pyspark.ml.feature import MinMaxScaler\n",
    "from pyspark.ml.functions import vector_to_array\n",
    "\n",
    "vector_assembler = VectorAssembler(inputCols=['X','Y'], outputCol=\"SS_features\")\n",
    "indexed = vector_assembler.transform(df_test)\n",
    "minmax_scaler = MinMaxScaler(inputCol=\"SS_features\", outputCol=\"scaled\")\n",
    "scaled = minmax_scaler.fit(indexed).transform(indexed)\n",
    "scaled=scaled.withColumn(\"s\", vector_to_array(\"scaled\")).select(['DayofWeek','District','Year','Month','Day','Hours','Mins']+[col(\"s\")[i] for i in range(2)])\n"
   ]
  },
  {
   "cell_type": "code",
   "execution_count": 22,
   "id": "e0fa6e7a",
   "metadata": {
    "colab": {
     "base_uri": "https://localhost:8080/"
    },
    "id": "KzbO1G1XYCkJ",
    "outputId": "778207a2-127a-4811-ae9f-6af757eb3e53"
   },
   "outputs": [
    {
     "name": "stdout",
     "output_type": "stream",
     "text": [
      "+---------+--------+----+-----+---+-----+----+--------------------+--------------------+\n",
      "|DayofWeek|District|Year|Month|Day|Hours|Mins|                s[0]|                s[1]|\n",
      "+---------+--------+----+-----+---+-----+----+--------------------+--------------------+\n",
      "|      6.0|       2|2015|    5| 10|   23|  59| 0.05664083112021621|5.196191600020373E-4|\n",
      "|      6.0|       2|2015|    5| 10|   23|  51| 0.06064591786875534|4.695423244378389...|\n",
      "|      6.0|      10|2015|    5| 10|   23|  50| 0.04352318164345805|0.001612736577486...|\n",
      "|      6.0|       6|2015|    5| 10|   23|  45| 0.03786576230462328|2.587969176351025E-4|\n",
      "|      6.0|       6|2015|    5| 10|   23|  45| 0.03786576230462328|2.587969176351025E-4|\n",
      "|      6.0|       4|2015|    5| 10|   23|  40|0.027124205850476944|1.012175449963117...|\n",
      "|      6.0|       6|2015|    5| 10|   23|  30| 0.04371462764958716|6.018400374844448E-4|\n",
      "|      6.0|       6|2015|    5| 10|   23|  30| 0.05015291758597506|6.094825243800206E-4|\n",
      "|      6.0|       1|2015|    5| 10|   23|  10| 0.04714937621273421|0.001095498088051...|\n",
      "|      6.0|       3|2015|    5| 10|   23|  10| 0.04951598970701266|0.001740365977258997|\n",
      "|      6.0|       6|2015|    5| 10|   23|   0| 0.05216135065297192|7.440572772038805E-4|\n",
      "|      6.0|       1|2015|    5| 10|   23|   0| 0.05092674784342008|0.001016760284276...|\n",
      "|      6.0|       1|2015|    5| 10|   23|   0| 0.05092674784342008|0.001016760284276...|\n",
      "|      6.0|       3|2015|    5| 10|   23|   0|  0.0553779919428341|0.001749488804908...|\n",
      "|      6.0|       3|2015|    5| 10|   23|   0| 0.04613262642869764|0.001906763743676...|\n",
      "|      6.0|       5|2015|    5| 10|   22|  50|  0.0487344912227992|0.001410829333652...|\n",
      "|      6.0|       4|2015|    5| 10|   22|  36|0.028785421050699384|3.025831942804963E-4|\n",
      "|      6.0|       6|2015|    5| 10|   22|   0| 0.05628793103353947|1.778817693718998...|\n",
      "|      6.0|      10|2015|    5| 10|   22|   0|0.039715861621710355|0.001526607132415...|\n",
      "|      6.0|      10|2015|    5| 10|   22|   0|0.045436302486187304|0.001720055613187942|\n",
      "+---------+--------+----+-----+---+-----+----+--------------------+--------------------+\n",
      "only showing top 20 rows\n",
      "\n"
     ]
    }
   ],
   "source": [
    "df_test= scaled\n",
    "from pyspark.sql.types import IntegerType\n",
    "df_test=df_test.withColumn(\"Year\",df_test.Year.cast(IntegerType()))\n",
    "df_test=df_test.withColumn(\"Month\",df_test.Month.cast(IntegerType()))\n",
    "df_test=df_test.withColumn(\"Day\",df_test.Day.cast(IntegerType()))\n",
    "df_test=df_test.withColumn(\"Hours\",df_test.Hours.cast(IntegerType()))\n",
    "df_test=df_test.withColumn(\"Mins\",df_test.Mins.cast(IntegerType()))\n",
    "\n",
    "df_test.show()"
   ]
  },
  {
   "cell_type": "code",
   "execution_count": 23,
   "id": "f77db91d",
   "metadata": {
    "scrolled": true
   },
   "outputs": [
    {
     "name": "stderr",
     "output_type": "stream",
     "text": [
      "                                                                                \r"
     ]
    }
   ],
   "source": [
    "pandasDF = df_test.toPandas()"
   ]
  },
  {
   "cell_type": "code",
   "execution_count": 24,
   "id": "c2fc7614",
   "metadata": {
    "scrolled": true
   },
   "outputs": [
    {
     "data": {
      "text/html": [
       "<div>\n",
       "<style scoped>\n",
       "    .dataframe tbody tr th:only-of-type {\n",
       "        vertical-align: middle;\n",
       "    }\n",
       "\n",
       "    .dataframe tbody tr th {\n",
       "        vertical-align: top;\n",
       "    }\n",
       "\n",
       "    .dataframe thead th {\n",
       "        text-align: right;\n",
       "    }\n",
       "</style>\n",
       "<table border=\"1\" class=\"dataframe\">\n",
       "  <thead>\n",
       "    <tr style=\"text-align: right;\">\n",
       "      <th></th>\n",
       "      <th>index</th>\n",
       "      <th>DayofWeek</th>\n",
       "      <th>District</th>\n",
       "      <th>Year</th>\n",
       "      <th>Month</th>\n",
       "      <th>Day</th>\n",
       "      <th>Hours</th>\n",
       "      <th>Mins</th>\n",
       "      <th>s[0]</th>\n",
       "      <th>s[1]</th>\n",
       "    </tr>\n",
       "  </thead>\n",
       "  <tbody>\n",
       "    <tr>\n",
       "      <th>0</th>\n",
       "      <td>0</td>\n",
       "      <td>6.0</td>\n",
       "      <td>2</td>\n",
       "      <td>2015</td>\n",
       "      <td>5</td>\n",
       "      <td>10</td>\n",
       "      <td>23</td>\n",
       "      <td>59</td>\n",
       "      <td>0.056641</td>\n",
       "      <td>0.000520</td>\n",
       "    </tr>\n",
       "    <tr>\n",
       "      <th>1</th>\n",
       "      <td>1</td>\n",
       "      <td>6.0</td>\n",
       "      <td>2</td>\n",
       "      <td>2015</td>\n",
       "      <td>5</td>\n",
       "      <td>10</td>\n",
       "      <td>23</td>\n",
       "      <td>51</td>\n",
       "      <td>0.060646</td>\n",
       "      <td>0.000470</td>\n",
       "    </tr>\n",
       "    <tr>\n",
       "      <th>2</th>\n",
       "      <td>2</td>\n",
       "      <td>6.0</td>\n",
       "      <td>10</td>\n",
       "      <td>2015</td>\n",
       "      <td>5</td>\n",
       "      <td>10</td>\n",
       "      <td>23</td>\n",
       "      <td>50</td>\n",
       "      <td>0.043523</td>\n",
       "      <td>0.001613</td>\n",
       "    </tr>\n",
       "    <tr>\n",
       "      <th>3</th>\n",
       "      <td>3</td>\n",
       "      <td>6.0</td>\n",
       "      <td>6</td>\n",
       "      <td>2015</td>\n",
       "      <td>5</td>\n",
       "      <td>10</td>\n",
       "      <td>23</td>\n",
       "      <td>45</td>\n",
       "      <td>0.037866</td>\n",
       "      <td>0.000259</td>\n",
       "    </tr>\n",
       "    <tr>\n",
       "      <th>4</th>\n",
       "      <td>4</td>\n",
       "      <td>6.0</td>\n",
       "      <td>6</td>\n",
       "      <td>2015</td>\n",
       "      <td>5</td>\n",
       "      <td>10</td>\n",
       "      <td>23</td>\n",
       "      <td>45</td>\n",
       "      <td>0.037866</td>\n",
       "      <td>0.000259</td>\n",
       "    </tr>\n",
       "    <tr>\n",
       "      <th>...</th>\n",
       "      <td>...</td>\n",
       "      <td>...</td>\n",
       "      <td>...</td>\n",
       "      <td>...</td>\n",
       "      <td>...</td>\n",
       "      <td>...</td>\n",
       "      <td>...</td>\n",
       "      <td>...</td>\n",
       "      <td>...</td>\n",
       "      <td>...</td>\n",
       "    </tr>\n",
       "    <tr>\n",
       "      <th>884257</th>\n",
       "      <td>884257</td>\n",
       "      <td>1.0</td>\n",
       "      <td>1</td>\n",
       "      <td>2003</td>\n",
       "      <td>1</td>\n",
       "      <td>1</td>\n",
       "      <td>0</td>\n",
       "      <td>1</td>\n",
       "      <td>0.051975</td>\n",
       "      <td>0.000843</td>\n",
       "    </tr>\n",
       "    <tr>\n",
       "      <th>884258</th>\n",
       "      <td>884258</td>\n",
       "      <td>1.0</td>\n",
       "      <td>10</td>\n",
       "      <td>2003</td>\n",
       "      <td>1</td>\n",
       "      <td>1</td>\n",
       "      <td>0</td>\n",
       "      <td>1</td>\n",
       "      <td>0.043851</td>\n",
       "      <td>0.001622</td>\n",
       "    </tr>\n",
       "    <tr>\n",
       "      <th>884259</th>\n",
       "      <td>884259</td>\n",
       "      <td>1.0</td>\n",
       "      <td>6</td>\n",
       "      <td>2003</td>\n",
       "      <td>1</td>\n",
       "      <td>1</td>\n",
       "      <td>0</td>\n",
       "      <td>1</td>\n",
       "      <td>0.033881</td>\n",
       "      <td>0.000080</td>\n",
       "    </tr>\n",
       "    <tr>\n",
       "      <th>884260</th>\n",
       "      <td>884260</td>\n",
       "      <td>1.0</td>\n",
       "      <td>2</td>\n",
       "      <td>2003</td>\n",
       "      <td>1</td>\n",
       "      <td>1</td>\n",
       "      <td>0</td>\n",
       "      <td>1</td>\n",
       "      <td>0.062696</td>\n",
       "      <td>0.000604</td>\n",
       "    </tr>\n",
       "    <tr>\n",
       "      <th>884261</th>\n",
       "      <td>884261</td>\n",
       "      <td>1.0</td>\n",
       "      <td>4</td>\n",
       "      <td>2003</td>\n",
       "      <td>1</td>\n",
       "      <td>1</td>\n",
       "      <td>0</td>\n",
       "      <td>1</td>\n",
       "      <td>0.011883</td>\n",
       "      <td>0.000499</td>\n",
       "    </tr>\n",
       "  </tbody>\n",
       "</table>\n",
       "<p>884262 rows × 10 columns</p>\n",
       "</div>"
      ],
      "text/plain": [
       "         index  DayofWeek  District  Year  Month  Day  Hours  Mins      s[0]  \\\n",
       "0            0        6.0         2  2015      5   10     23    59  0.056641   \n",
       "1            1        6.0         2  2015      5   10     23    51  0.060646   \n",
       "2            2        6.0        10  2015      5   10     23    50  0.043523   \n",
       "3            3        6.0         6  2015      5   10     23    45  0.037866   \n",
       "4            4        6.0         6  2015      5   10     23    45  0.037866   \n",
       "...        ...        ...       ...   ...    ...  ...    ...   ...       ...   \n",
       "884257  884257        1.0         1  2003      1    1      0     1  0.051975   \n",
       "884258  884258        1.0        10  2003      1    1      0     1  0.043851   \n",
       "884259  884259        1.0         6  2003      1    1      0     1  0.033881   \n",
       "884260  884260        1.0         2  2003      1    1      0     1  0.062696   \n",
       "884261  884261        1.0         4  2003      1    1      0     1  0.011883   \n",
       "\n",
       "            s[1]  \n",
       "0       0.000520  \n",
       "1       0.000470  \n",
       "2       0.001613  \n",
       "3       0.000259  \n",
       "4       0.000259  \n",
       "...          ...  \n",
       "884257  0.000843  \n",
       "884258  0.001622  \n",
       "884259  0.000080  \n",
       "884260  0.000604  \n",
       "884261  0.000499  \n",
       "\n",
       "[884262 rows x 10 columns]"
      ]
     },
     "execution_count": 24,
     "metadata": {},
     "output_type": "execute_result"
    }
   ],
   "source": [
    "pandasDF.reset_index()"
   ]
  },
  {
   "cell_type": "code",
   "execution_count": 25,
   "id": "558e5ce5",
   "metadata": {},
   "outputs": [
    {
     "name": "stdout",
     "output_type": "stream",
     "text": [
      "[[2.00000000e+00 5.66408311e-02 5.19619160e-04 ... 5.00000000e+00\n",
      "  1.00000000e+01 5.90000000e+01]\n",
      " [2.00000000e+00 6.06459179e-02 4.69542324e-04 ... 5.00000000e+00\n",
      "  1.00000000e+01 5.10000000e+01]\n",
      " [1.00000000e+01 4.35231816e-02 1.61273658e-03 ... 5.00000000e+00\n",
      "  1.00000000e+01 5.00000000e+01]\n",
      " ...\n",
      " [6.00000000e+00 3.38808181e-02 8.02372156e-05 ... 1.00000000e+00\n",
      "  1.00000000e+00 1.00000000e+00]\n",
      " [2.00000000e+00 6.26963170e-02 6.04302260e-04 ... 1.00000000e+00\n",
      "  1.00000000e+00 1.00000000e+00]\n",
      " [4.00000000e+00 1.18829933e-02 4.98559729e-04 ... 1.00000000e+00\n",
      "  1.00000000e+00 1.00000000e+00]]\n"
     ]
    }
   ],
   "source": [
    "df_test3 = pandasDF\n",
    "from sklearn.model_selection import train_test_split\n",
    "#test,_ = train_test_split(df_test3, test_size=0)\n",
    "f=['District','s[0]','s[1]','Hours','Year','Month','Day','Mins']\n",
    "test=df_test3[f].values\n",
    "print(test)\n"
   ]
  },
  {
   "cell_type": "markdown",
   "id": "996ac918",
   "metadata": {},
   "source": [
    "# preprocessing for training data"
   ]
  },
  {
   "cell_type": "code",
   "execution_count": 26,
   "id": "8f39e177",
   "metadata": {},
   "outputs": [
    {
     "name": "stdout",
     "output_type": "stream",
     "text": [
      "+-------------------+--------------+--------------------+---------+----------+--------------+--------------------+-------------------+------------------+\n",
      "|              Dates|      Category|            Descript|DayOfWeek|PdDistrict|    Resolution|             Address|                  X|                 Y|\n",
      "+-------------------+--------------+--------------------+---------+----------+--------------+--------------------+-------------------+------------------+\n",
      "|2015-05-13 23:53:00|      WARRANTS|      WARRANT ARREST|Wednesday|  NORTHERN|ARREST, BOOKED|  OAK ST / LAGUNA ST|  -122.425891675136|  37.7745985956747|\n",
      "|2015-05-13 23:53:00|OTHER OFFENSES|TRAFFIC VIOLATION...|Wednesday|  NORTHERN|ARREST, BOOKED|  OAK ST / LAGUNA ST|  -122.425891675136|  37.7745985956747|\n",
      "|2015-05-13 23:33:00|OTHER OFFENSES|TRAFFIC VIOLATION...|Wednesday|  NORTHERN|ARREST, BOOKED|VANNESS AV / GREE...|   -122.42436302145|  37.8004143219856|\n",
      "|2015-05-13 23:30:00| LARCENY/THEFT|GRAND THEFT FROM ...|Wednesday|  NORTHERN|          NONE|1500 Block of LOM...|-122.42699532676599| 37.80087263276921|\n",
      "|2015-05-13 23:30:00| LARCENY/THEFT|GRAND THEFT FROM ...|Wednesday|      PARK|          NONE|100 Block of BROD...|  -122.438737622757|37.771541172057795|\n",
      "|2015-05-13 23:30:00| LARCENY/THEFT|GRAND THEFT FROM ...|Wednesday| INGLESIDE|          NONE| 0 Block of TEDDY AV|-122.40325236121201|   37.713430704116|\n",
      "|2015-05-13 23:30:00| VEHICLE THEFT|   STOLEN AUTOMOBILE|Wednesday| INGLESIDE|          NONE| AVALON AV / PERU AV|  -122.423326976668|  37.7251380403778|\n",
      "|2015-05-13 23:30:00| VEHICLE THEFT|   STOLEN AUTOMOBILE|Wednesday|   BAYVIEW|          NONE|KIRKWOOD AV / DON...|  -122.371274317441|  37.7275640719518|\n",
      "|2015-05-13 23:00:00| LARCENY/THEFT|GRAND THEFT FROM ...|Wednesday|  RICHMOND|          NONE|600 Block of 47TH AV|  -122.508194031117|37.776601260681204|\n",
      "|2015-05-13 23:00:00| LARCENY/THEFT|GRAND THEFT FROM ...|Wednesday|   CENTRAL|          NONE|JEFFERSON ST / LE...|  -122.419087676747|  37.8078015516515|\n",
      "|2015-05-13 22:58:00| LARCENY/THEFT|PETTY THEFT FROM ...|Wednesday|   CENTRAL|          NONE|JEFFERSON ST / LE...|  -122.419087676747|  37.8078015516515|\n",
      "|2015-05-13 22:30:00|OTHER OFFENSES|MISCELLANEOUS INV...|Wednesday|   TARAVAL|          NONE|0 Block of ESCOLT...|  -122.487983072777|37.737666654332706|\n",
      "|2015-05-13 22:30:00|     VANDALISM|MALICIOUS MISCHIE...|Wednesday|TENDERLOIN|          NONE|  TURK ST / JONES ST|-122.41241426358101|  37.7830037964534|\n",
      "|2015-05-13 22:06:00| LARCENY/THEFT|GRAND THEFT FROM ...|Wednesday|  NORTHERN|          NONE|FILLMORE ST / GEA...|  -122.432914603494|  37.7843533426568|\n",
      "|2015-05-13 22:00:00|  NON-CRIMINAL|      FOUND PROPERTY|Wednesday|   BAYVIEW|          NONE|200 Block of WILL...|  -122.397744427103|  37.7299346936044|\n",
      "|2015-05-13 22:00:00|  NON-CRIMINAL|      FOUND PROPERTY|Wednesday|   BAYVIEW|          NONE|0 Block of MENDEL...|-122.38369150395901|  37.7431890419965|\n",
      "|2015-05-13 22:00:00|       ROBBERY|ROBBERY, ARMED WI...|Wednesday|TENDERLOIN|          NONE|  EDDY ST / JONES ST|  -122.412597377187|37.783932027727296|\n",
      "|2015-05-13 21:55:00|       ASSAULT|AGGRAVATED ASSAUL...|Wednesday| INGLESIDE|          NONE|GODEUS ST / MISSI...|  -122.421681531572|  37.7428222004845|\n",
      "|2015-05-13 21:40:00|OTHER OFFENSES|   TRAFFIC VIOLATION|Wednesday|   BAYVIEW|ARREST, BOOKED|MENDELL ST / HUDS...|-122.38640086995301|   37.738983491072|\n",
      "|2015-05-13 21:30:00|  NON-CRIMINAL|      FOUND PROPERTY|Wednesday|TENDERLOIN|          NONE|100 Block of JONE...|  -122.412249767634|   37.782556330202|\n",
      "+-------------------+--------------+--------------------+---------+----------+--------------+--------------------+-------------------+------------------+\n",
      "only showing top 20 rows\n",
      "\n"
     ]
    },
    {
     "name": "stderr",
     "output_type": "stream",
     "text": [
      "/opt/anaconda3/lib/python3.9/site-packages/pyspark/sql/column.py:419: FutureWarning: A column as 'key' in getItem is deprecated as of Spark 3.0, and will not be supported in the future release. Use `column[key]` or `column.key` syntax instead.\n",
      "  warnings.warn(\n"
     ]
    },
    {
     "name": "stdout",
     "output_type": "stream",
     "text": [
      "+-------------------+---------------+--------------------+---------+----------+--------------+--------------------+-------------------+------------------+\n",
      "|              Dates|       Category|            Descript|DayOfWeek|PdDistrict|    Resolution|             Address|                  X|                 Y|\n",
      "+-------------------+---------------+--------------------+---------+----------+--------------+--------------------+-------------------+------------------+\n",
      "|2015-05-13 19:30:00|  LARCENY/THEFT|GRAND THEFT FROM ...|Wednesday|  SOUTHERN|          NONE|500 Block of BRAN...|  -122.397615567933|  37.7773918242817|\n",
      "|2015-05-12 22:00:00|SECONDARY CODES|   ATM RELATED CRIME|  Tuesday|   CENTRAL|          NONE|1400 Block of STO...|-122.40903150597099|  37.7992531925554|\n",
      "|2015-05-12 20:45:00|  LARCENY/THEFT|GRAND THEFT FROM ...|  Tuesday| INGLESIDE|          NONE|0 Block of FRANCO...|  -122.408262089626| 37.74677963933061|\n",
      "|2015-05-12 10:00:00| MISSING PERSON|       MISSING ADULT|  Tuesday|      PARK|          NONE|1400 Block of GRO...|  -122.440483106998|  37.7755529016833|\n",
      "|2015-05-11 18:15:00|  LARCENY/THEFT|GRAND THEFT FROM ...|   Monday|  NORTHERN|          NONE|GEARY BL / FILLMO...|  -122.432914603494|  37.7843533426568|\n",
      "|2015-05-11 08:40:00|  LARCENY/THEFT|PETTY THEFT FROM ...|   Monday|   MISSION|          NONE|2400 Block of MIS...|  -122.419025267752|  37.7576134671742|\n",
      "|2015-05-03 18:00:00|        ASSAULT|THREATS AGAINST LIFE|   Sunday|   TARAVAL|          NONE|200 Block of RALS...|   -122.46899941712|   37.717012889076|\n",
      "|2015-05-03 12:00:00|        ASSAULT|             BATTERY|   Sunday|   MISSION|          NONE|1700 Block of HAR...|-122.41335418701799|  37.7690748003847|\n",
      "|2015-05-03 09:19:00|       WARRANTS|      WARRANT ARREST|   Sunday|   MISSION|ARREST, BOOKED|SHOTWELL ST / 19T...|  -122.415929849548|  37.7604330003754|\n",
      "|2015-05-02 22:15:00|   NON-CRIMINAL|AIDED CASE, MENTA...| Saturday|   TARAVAL|          NONE|1600 Block of KIR...|  -122.478485107666|  37.7598153510254|\n",
      "|2015-05-02 21:00:00|  LARCENY/THEFT|GRAND THEFT FROM ...| Saturday|   CENTRAL|          NONE|  GRANT AV / PINE ST|  -122.405744762009|37.791498082842494|\n",
      "|2015-05-02 10:14:00|   NON-CRIMINAL|          AIDED CASE| Saturday|TENDERLOIN|          NONE| 0 Block of GROVE ST|  -122.415642487855|  37.7788323158792|\n",
      "|2015-05-02 00:50:00| SUSPICIOUS OCC|SUSPICIOUS OCCURR...| Saturday|TENDERLOIN|          NONE|200 Block of GOLD...|  -122.414302052544|   37.781863316866|\n",
      "|2015-05-01 21:00:00| SUSPICIOUS OCC|INVESTIGATIVE DET...|   Friday|TENDERLOIN|          NONE|500 Block of LEAV...|-122.41464540990101|  37.7860688364633|\n",
      "|2015-05-01 01:30:00|       BURGLARY|BURGLARY, UNLAWFU...|   Friday|   CENTRAL|          NONE|400 Block of SANS...|  -122.401427486084|  37.7941982165402|\n",
      "|2015-04-30 23:00:00|      VANDALISM|MALICIOUS MISCHIE...| Thursday|   TARAVAL|          NONE|1200 Block of 9TH AV|   -122.46630620635|  37.7649657627052|\n",
      "|2015-04-30 00:40:00|        ASSAULT|             BATTERY| Thursday|  NORTHERN|          NONE|3100 Block of FIL...|-122.43588923500201|  37.7987183534813|\n",
      "|2015-04-30 00:31:00|    LIQUOR LAWS|CONSUMING ALCOHOL...| Thursday|   MISSION|ARREST, BOOKED|100 Block of CAPP ST|  -122.418549940195|  37.7642837095036|\n",
      "|2015-04-29 13:32:00|   NON-CRIMINAL|SEARCH WARRANT SE...|Wednesday|   BAYVIEW|ARREST, BOOKED|800 Block of DART...|-122.40932533873699|  37.7201493865195|\n",
      "|2015-04-29 04:30:00|  VEHICLE THEFT|ATTEMPTED STOLEN ...|Wednesday|  RICHMOND|          NONE|   20TH AV / LAKE ST|  -122.479787286118|  37.7859818936694|\n",
      "+-------------------+---------------+--------------------+---------+----------+--------------+--------------------+-------------------+------------------+\n",
      "only showing top 20 rows\n",
      "\n",
      "+-------------------+--------------+---------+----------+-------------------+------------------+\n",
      "|              Dates|      Category|DayOfWeek|PdDistrict|                  X|                 Y|\n",
      "+-------------------+--------------+---------+----------+-------------------+------------------+\n",
      "|2015-05-13 23:53:00|      WARRANTS|Wednesday|  NORTHERN|  -122.425891675136|  37.7745985956747|\n",
      "|2015-05-13 23:53:00|OTHER OFFENSES|Wednesday|  NORTHERN|  -122.425891675136|  37.7745985956747|\n",
      "|2015-05-13 23:33:00|OTHER OFFENSES|Wednesday|  NORTHERN|   -122.42436302145|  37.8004143219856|\n",
      "|2015-05-13 23:30:00| LARCENY/THEFT|Wednesday|  NORTHERN|-122.42699532676599| 37.80087263276921|\n",
      "|2015-05-13 23:30:00| LARCENY/THEFT|Wednesday|      PARK|  -122.438737622757|37.771541172057795|\n",
      "|2015-05-13 23:30:00| LARCENY/THEFT|Wednesday| INGLESIDE|-122.40325236121201|   37.713430704116|\n",
      "|2015-05-13 23:30:00| VEHICLE THEFT|Wednesday| INGLESIDE|  -122.423326976668|  37.7251380403778|\n",
      "|2015-05-13 23:30:00| VEHICLE THEFT|Wednesday|   BAYVIEW|  -122.371274317441|  37.7275640719518|\n",
      "|2015-05-13 23:00:00| LARCENY/THEFT|Wednesday|  RICHMOND|  -122.508194031117|37.776601260681204|\n",
      "|2015-05-13 23:00:00| LARCENY/THEFT|Wednesday|   CENTRAL|  -122.419087676747|  37.8078015516515|\n",
      "|2015-05-13 22:58:00| LARCENY/THEFT|Wednesday|   CENTRAL|  -122.419087676747|  37.8078015516515|\n",
      "|2015-05-13 22:30:00|OTHER OFFENSES|Wednesday|   TARAVAL|  -122.487983072777|37.737666654332706|\n",
      "|2015-05-13 22:30:00|     VANDALISM|Wednesday|TENDERLOIN|-122.41241426358101|  37.7830037964534|\n",
      "|2015-05-13 22:06:00| LARCENY/THEFT|Wednesday|  NORTHERN|  -122.432914603494|  37.7843533426568|\n",
      "|2015-05-13 22:00:00|  NON-CRIMINAL|Wednesday|   BAYVIEW|  -122.397744427103|  37.7299346936044|\n",
      "|2015-05-13 22:00:00|  NON-CRIMINAL|Wednesday|   BAYVIEW|-122.38369150395901|  37.7431890419965|\n",
      "|2015-05-13 22:00:00|       ROBBERY|Wednesday|TENDERLOIN|  -122.412597377187|37.783932027727296|\n",
      "|2015-05-13 21:55:00|       ASSAULT|Wednesday| INGLESIDE|  -122.421681531572|  37.7428222004845|\n",
      "|2015-05-13 21:40:00|OTHER OFFENSES|Wednesday|   BAYVIEW|-122.38640086995301|   37.738983491072|\n",
      "|2015-05-13 21:30:00|  NON-CRIMINAL|Wednesday|TENDERLOIN|  -122.412249767634|   37.782556330202|\n",
      "+-------------------+--------------+---------+----------+-------------------+------------------+\n",
      "only showing top 20 rows\n",
      "\n"
     ]
    },
    {
     "name": "stderr",
     "output_type": "stream",
     "text": [
      "\r",
      "[Stage 25:>                                                         (0 + 2) / 2]\r",
      "\r",
      "                                                                                \r"
     ]
    },
    {
     "name": "stdout",
     "output_type": "stream",
     "text": [
      "+-------------------+--------+---------+----------+-------------------+------------------+--------+\n",
      "|              Dates|category|DayofWeek|PdDistrict|                  X|                 Y|District|\n",
      "+-------------------+--------+---------+----------+-------------------+------------------+--------+\n",
      "|2015-05-13 23:53:00|      10|      1.0|  NORTHERN|  -122.425891675136|  37.7745985956747|      10|\n",
      "|2015-05-13 23:53:00|       8|      1.0|  NORTHERN|  -122.425891675136|  37.7745985956747|      10|\n",
      "|2015-05-13 23:33:00|       8|      1.0|  NORTHERN|   -122.42436302145|  37.8004143219856|      10|\n",
      "|2015-05-13 23:30:00|      37|      1.0|  NORTHERN|-122.42699532676599| 37.80087263276921|      10|\n",
      "|2015-05-13 23:30:00|      37|      1.0|      PARK|  -122.438737622757|37.771541172057795|       7|\n",
      "|2015-05-13 23:30:00|      37|      1.0| INGLESIDE|-122.40325236121201|   37.713430704116|       6|\n",
      "|2015-05-13 23:30:00|      34|      1.0| INGLESIDE|  -122.423326976668|  37.7251380403778|       6|\n",
      "|2015-05-13 23:30:00|      34|      1.0|   BAYVIEW|  -122.371274317441|  37.7275640719518|       2|\n",
      "|2015-05-13 23:00:00|      37|      1.0|  RICHMOND|  -122.508194031117|37.776601260681204|       9|\n",
      "|2015-05-13 23:00:00|      37|      1.0|   CENTRAL|  -122.419087676747|  37.8078015516515|       3|\n",
      "|2015-05-13 22:58:00|      37|      1.0|   CENTRAL|  -122.419087676747|  37.8078015516515|       3|\n",
      "|2015-05-13 22:30:00|       8|      1.0|   TARAVAL|  -122.487983072777|37.737666654332706|       4|\n",
      "|2015-05-13 22:30:00|      30|      1.0|TENDERLOIN|-122.41241426358101|  37.7830037964534|       5|\n",
      "|2015-05-13 22:06:00|      37|      1.0|  NORTHERN|  -122.432914603494|  37.7843533426568|      10|\n",
      "|2015-05-13 22:00:00|      35|      1.0|   BAYVIEW|  -122.397744427103|  37.7299346936044|       2|\n",
      "|2015-05-13 22:00:00|      35|      1.0|   BAYVIEW|-122.38369150395901|  37.7431890419965|       2|\n",
      "|2015-05-13 22:00:00|      23|      1.0|TENDERLOIN|  -122.412597377187|37.783932027727296|       5|\n",
      "|2015-05-13 21:55:00|      16|      1.0| INGLESIDE|  -122.421681531572|  37.7428222004845|       6|\n",
      "|2015-05-13 21:40:00|       8|      1.0|   BAYVIEW|-122.38640086995301|   37.738983491072|       2|\n",
      "|2015-05-13 21:30:00|      35|      1.0|TENDERLOIN|  -122.412249767634|   37.782556330202|       5|\n",
      "+-------------------+--------+---------+----------+-------------------+------------------+--------+\n",
      "only showing top 20 rows\n",
      "\n",
      "+-------------------+--------+---------+----------+-------------------+------------------+--------+\n",
      "|              Dates|category|DayofWeek|PdDistrict|                  X|                 Y|District|\n",
      "+-------------------+--------+---------+----------+-------------------+------------------+--------+\n",
      "|2015-05-13 23:53:00|      10|      1.0|  NORTHERN|  -122.425891675136|  37.7745985956747|      10|\n",
      "|2015-05-13 23:53:00|       8|      1.0|  NORTHERN|  -122.425891675136|  37.7745985956747|      10|\n",
      "|2015-05-13 23:33:00|       8|      1.0|  NORTHERN|   -122.42436302145|  37.8004143219856|      10|\n",
      "|2015-05-13 23:30:00|      37|      1.0|  NORTHERN|-122.42699532676599| 37.80087263276921|      10|\n",
      "|2015-05-13 23:30:00|      37|      1.0|      PARK|  -122.438737622757|37.771541172057795|       7|\n",
      "|2015-05-13 23:30:00|      37|      1.0| INGLESIDE|-122.40325236121201|   37.713430704116|       6|\n",
      "|2015-05-13 23:30:00|      34|      1.0| INGLESIDE|  -122.423326976668|  37.7251380403778|       6|\n",
      "|2015-05-13 23:30:00|      34|      1.0|   BAYVIEW|  -122.371274317441|  37.7275640719518|       2|\n",
      "|2015-05-13 23:00:00|      37|      1.0|  RICHMOND|  -122.508194031117|37.776601260681204|       9|\n",
      "|2015-05-13 23:00:00|      37|      1.0|   CENTRAL|  -122.419087676747|  37.8078015516515|       3|\n",
      "|2015-05-13 22:58:00|      37|      1.0|   CENTRAL|  -122.419087676747|  37.8078015516515|       3|\n",
      "|2015-05-13 22:30:00|       8|      1.0|   TARAVAL|  -122.487983072777|37.737666654332706|       4|\n",
      "|2015-05-13 22:30:00|      30|      1.0|TENDERLOIN|-122.41241426358101|  37.7830037964534|       5|\n",
      "|2015-05-13 22:06:00|      37|      1.0|  NORTHERN|  -122.432914603494|  37.7843533426568|      10|\n",
      "|2015-05-13 22:00:00|      35|      1.0|   BAYVIEW|  -122.397744427103|  37.7299346936044|       2|\n",
      "|2015-05-13 22:00:00|      35|      1.0|   BAYVIEW|-122.38369150395901|  37.7431890419965|       2|\n",
      "|2015-05-13 22:00:00|      23|      1.0|TENDERLOIN|  -122.412597377187|37.783932027727296|       5|\n",
      "|2015-05-13 21:55:00|      16|      1.0| INGLESIDE|  -122.421681531572|  37.7428222004845|       6|\n",
      "|2015-05-13 21:40:00|       8|      1.0|   BAYVIEW|-122.38640086995301|   37.738983491072|       2|\n",
      "|2015-05-13 21:30:00|      35|      1.0|TENDERLOIN|  -122.412249767634|   37.782556330202|       5|\n",
      "+-------------------+--------+---------+----------+-------------------+------------------+--------+\n",
      "only showing top 20 rows\n",
      "\n",
      "+-------------------+--------+---------+-------------------+------------------+--------+\n",
      "|              Dates|category|DayofWeek|                  X|                 Y|District|\n",
      "+-------------------+--------+---------+-------------------+------------------+--------+\n",
      "|2015-05-13 23:53:00|      10|      1.0|  -122.425891675136|  37.7745985956747|      10|\n",
      "|2015-05-13 23:53:00|       8|      1.0|  -122.425891675136|  37.7745985956747|      10|\n",
      "|2015-05-13 23:33:00|       8|      1.0|   -122.42436302145|  37.8004143219856|      10|\n",
      "|2015-05-13 23:30:00|      37|      1.0|-122.42699532676599| 37.80087263276921|      10|\n",
      "|2015-05-13 23:30:00|      37|      1.0|  -122.438737622757|37.771541172057795|       7|\n",
      "|2015-05-13 23:30:00|      37|      1.0|-122.40325236121201|   37.713430704116|       6|\n",
      "|2015-05-13 23:30:00|      34|      1.0|  -122.423326976668|  37.7251380403778|       6|\n",
      "|2015-05-13 23:30:00|      34|      1.0|  -122.371274317441|  37.7275640719518|       2|\n",
      "|2015-05-13 23:00:00|      37|      1.0|  -122.508194031117|37.776601260681204|       9|\n",
      "|2015-05-13 23:00:00|      37|      1.0|  -122.419087676747|  37.8078015516515|       3|\n",
      "|2015-05-13 22:58:00|      37|      1.0|  -122.419087676747|  37.8078015516515|       3|\n",
      "|2015-05-13 22:30:00|       8|      1.0|  -122.487983072777|37.737666654332706|       4|\n",
      "|2015-05-13 22:30:00|      30|      1.0|-122.41241426358101|  37.7830037964534|       5|\n",
      "|2015-05-13 22:06:00|      37|      1.0|  -122.432914603494|  37.7843533426568|      10|\n",
      "|2015-05-13 22:00:00|      35|      1.0|  -122.397744427103|  37.7299346936044|       2|\n",
      "|2015-05-13 22:00:00|      35|      1.0|-122.38369150395901|  37.7431890419965|       2|\n",
      "|2015-05-13 22:00:00|      23|      1.0|  -122.412597377187|37.783932027727296|       5|\n",
      "|2015-05-13 21:55:00|      16|      1.0|  -122.421681531572|  37.7428222004845|       6|\n",
      "|2015-05-13 21:40:00|       8|      1.0|-122.38640086995301|   37.738983491072|       2|\n",
      "|2015-05-13 21:30:00|      35|      1.0|  -122.412249767634|   37.782556330202|       5|\n",
      "+-------------------+--------+---------+-------------------+------------------+--------+\n",
      "only showing top 20 rows\n",
      "\n"
     ]
    },
    {
     "name": "stderr",
     "output_type": "stream",
     "text": [
      "                                                                                \r"
     ]
    },
    {
     "name": "stdout",
     "output_type": "stream",
     "text": [
      "+--------+------+\n",
      "|category| count|\n",
      "+--------+------+\n",
      "|       1| 16679|\n",
      "|       2|   508|\n",
      "|       3|  4388|\n",
      "|       4|  1903|\n",
      "|       5|  9985|\n",
      "|       6|   491|\n",
      "|       7| 25989|\n",
      "|       8|126182|\n",
      "|       9|  2268|\n",
      "|      10| 42214|\n",
      "|      11|  1513|\n",
      "|      12|   148|\n",
      "|      13| 10609|\n",
      "|      14|   146|\n",
      "|      15|   289|\n",
      "|      16| 76876|\n",
      "|      17|  4280|\n",
      "|      18|   256|\n",
      "|      19|     6|\n",
      "|      20|  8555|\n",
      "+--------+------+\n",
      "only showing top 20 rows\n",
      "\n"
     ]
    },
    {
     "name": "stderr",
     "output_type": "stream",
     "text": [
      "\r",
      "[Stage 34:>                                                         (0 + 2) / 2]\r",
      "\r",
      "                                                                                \r"
     ]
    },
    {
     "name": "stdout",
     "output_type": "stream",
     "text": [
      "+--------+------+\n",
      "|District| count|\n",
      "+--------+------+\n",
      "|       1|119908|\n",
      "|       6| 78845|\n",
      "|       3| 85460|\n",
      "|       5| 81809|\n",
      "|       9| 45209|\n",
      "|       4| 65596|\n",
      "|       8|157182|\n",
      "|       7| 49313|\n",
      "|      10|105296|\n",
      "|       2| 89431|\n",
      "+--------+------+\n",
      "\n",
      "+-------------------+--------+---------+-------------------+------------------+--------+----------+--------+----+-----+---+-----+----+----+\n",
      "|              Dates|category|DayofWeek|                  X|                 Y|District|      Date|    Time|Year|Month|Day|Hours|Mins|Secs|\n",
      "+-------------------+--------+---------+-------------------+------------------+--------+----------+--------+----+-----+---+-----+----+----+\n",
      "|2015-05-13 23:53:00|      10|      1.0|  -122.425891675136|  37.7745985956747|      10|2015-05-13|23:53:00|2015|   05| 13|   23|  53|  00|\n",
      "|2015-05-13 23:53:00|       8|      1.0|  -122.425891675136|  37.7745985956747|      10|2015-05-13|23:53:00|2015|   05| 13|   23|  53|  00|\n",
      "|2015-05-13 23:33:00|       8|      1.0|   -122.42436302145|  37.8004143219856|      10|2015-05-13|23:33:00|2015|   05| 13|   23|  33|  00|\n",
      "|2015-05-13 23:30:00|      37|      1.0|-122.42699532676599| 37.80087263276921|      10|2015-05-13|23:30:00|2015|   05| 13|   23|  30|  00|\n",
      "|2015-05-13 23:30:00|      37|      1.0|  -122.438737622757|37.771541172057795|       7|2015-05-13|23:30:00|2015|   05| 13|   23|  30|  00|\n",
      "|2015-05-13 23:30:00|      37|      1.0|-122.40325236121201|   37.713430704116|       6|2015-05-13|23:30:00|2015|   05| 13|   23|  30|  00|\n",
      "|2015-05-13 23:30:00|      34|      1.0|  -122.423326976668|  37.7251380403778|       6|2015-05-13|23:30:00|2015|   05| 13|   23|  30|  00|\n",
      "|2015-05-13 23:30:00|      34|      1.0|  -122.371274317441|  37.7275640719518|       2|2015-05-13|23:30:00|2015|   05| 13|   23|  30|  00|\n",
      "|2015-05-13 23:00:00|      37|      1.0|  -122.508194031117|37.776601260681204|       9|2015-05-13|23:00:00|2015|   05| 13|   23|  00|  00|\n",
      "|2015-05-13 23:00:00|      37|      1.0|  -122.419087676747|  37.8078015516515|       3|2015-05-13|23:00:00|2015|   05| 13|   23|  00|  00|\n",
      "|2015-05-13 22:58:00|      37|      1.0|  -122.419087676747|  37.8078015516515|       3|2015-05-13|22:58:00|2015|   05| 13|   22|  58|  00|\n",
      "|2015-05-13 22:30:00|       8|      1.0|  -122.487983072777|37.737666654332706|       4|2015-05-13|22:30:00|2015|   05| 13|   22|  30|  00|\n",
      "|2015-05-13 22:30:00|      30|      1.0|-122.41241426358101|  37.7830037964534|       5|2015-05-13|22:30:00|2015|   05| 13|   22|  30|  00|\n",
      "|2015-05-13 22:06:00|      37|      1.0|  -122.432914603494|  37.7843533426568|      10|2015-05-13|22:06:00|2015|   05| 13|   22|  06|  00|\n",
      "|2015-05-13 22:00:00|      35|      1.0|  -122.397744427103|  37.7299346936044|       2|2015-05-13|22:00:00|2015|   05| 13|   22|  00|  00|\n",
      "|2015-05-13 22:00:00|      35|      1.0|-122.38369150395901|  37.7431890419965|       2|2015-05-13|22:00:00|2015|   05| 13|   22|  00|  00|\n",
      "|2015-05-13 22:00:00|      23|      1.0|  -122.412597377187|37.783932027727296|       5|2015-05-13|22:00:00|2015|   05| 13|   22|  00|  00|\n",
      "|2015-05-13 21:55:00|      16|      1.0|  -122.421681531572|  37.7428222004845|       6|2015-05-13|21:55:00|2015|   05| 13|   21|  55|  00|\n",
      "|2015-05-13 21:40:00|       8|      1.0|-122.38640086995301|   37.738983491072|       2|2015-05-13|21:40:00|2015|   05| 13|   21|  40|  00|\n",
      "|2015-05-13 21:30:00|      35|      1.0|  -122.412249767634|   37.782556330202|       5|2015-05-13|21:30:00|2015|   05| 13|   21|  30|  00|\n",
      "+-------------------+--------+---------+-------------------+------------------+--------+----------+--------+----+-----+---+-----+----+----+\n",
      "only showing top 20 rows\n",
      "\n",
      "+--------+---------+-------------------+------------------+--------+----+-----+---+-----+----+----+\n",
      "|category|DayofWeek|                  X|                 Y|District|Year|Month|Day|Hours|Mins|Secs|\n",
      "+--------+---------+-------------------+------------------+--------+----+-----+---+-----+----+----+\n",
      "|      10|      1.0|  -122.425891675136|  37.7745985956747|      10|2015|   05| 13|   23|  53|  00|\n",
      "|       8|      1.0|  -122.425891675136|  37.7745985956747|      10|2015|   05| 13|   23|  53|  00|\n",
      "|       8|      1.0|   -122.42436302145|  37.8004143219856|      10|2015|   05| 13|   23|  33|  00|\n",
      "|      37|      1.0|-122.42699532676599| 37.80087263276921|      10|2015|   05| 13|   23|  30|  00|\n",
      "|      37|      1.0|  -122.438737622757|37.771541172057795|       7|2015|   05| 13|   23|  30|  00|\n",
      "|      37|      1.0|-122.40325236121201|   37.713430704116|       6|2015|   05| 13|   23|  30|  00|\n",
      "|      34|      1.0|  -122.423326976668|  37.7251380403778|       6|2015|   05| 13|   23|  30|  00|\n",
      "|      34|      1.0|  -122.371274317441|  37.7275640719518|       2|2015|   05| 13|   23|  30|  00|\n",
      "|      37|      1.0|  -122.508194031117|37.776601260681204|       9|2015|   05| 13|   23|  00|  00|\n",
      "|      37|      1.0|  -122.419087676747|  37.8078015516515|       3|2015|   05| 13|   23|  00|  00|\n",
      "|      37|      1.0|  -122.419087676747|  37.8078015516515|       3|2015|   05| 13|   22|  58|  00|\n",
      "|       8|      1.0|  -122.487983072777|37.737666654332706|       4|2015|   05| 13|   22|  30|  00|\n",
      "|      30|      1.0|-122.41241426358101|  37.7830037964534|       5|2015|   05| 13|   22|  30|  00|\n",
      "|      37|      1.0|  -122.432914603494|  37.7843533426568|      10|2015|   05| 13|   22|  06|  00|\n",
      "|      35|      1.0|  -122.397744427103|  37.7299346936044|       2|2015|   05| 13|   22|  00|  00|\n",
      "|      35|      1.0|-122.38369150395901|  37.7431890419965|       2|2015|   05| 13|   22|  00|  00|\n",
      "|      23|      1.0|  -122.412597377187|37.783932027727296|       5|2015|   05| 13|   22|  00|  00|\n",
      "|      16|      1.0|  -122.421681531572|  37.7428222004845|       6|2015|   05| 13|   21|  55|  00|\n",
      "|       8|      1.0|-122.38640086995301|   37.738983491072|       2|2015|   05| 13|   21|  40|  00|\n",
      "|      35|      1.0|  -122.412249767634|   37.782556330202|       5|2015|   05| 13|   21|  30|  00|\n",
      "+--------+---------+-------------------+------------------+--------+----+-----+---+-----+----+----+\n",
      "only showing top 20 rows\n",
      "\n"
     ]
    },
    {
     "name": "stderr",
     "output_type": "stream",
     "text": [
      "                                                                                \r"
     ]
    },
    {
     "name": "stdout",
     "output_type": "stream",
     "text": [
      "+---------+--------+--------+----+-----+---+-----+----+--------------------+--------------------+\n",
      "|DayofWeek|category|District|Year|Month|Day|Hours|Mins|                s[0]|                s[1]|\n",
      "+---------+--------+--------+----+-----+---+-----+----+--------------------+--------------------+\n",
      "|      1.0|      10|      10|2015|    5| 13|   23|  53| 0.04357794799292515|0.001275901072932...|\n",
      "|      1.0|       8|      10|2015|    5| 13|   23|  53| 0.04357794799292515|0.001275901072932...|\n",
      "|      1.0|       8|      10|2015|    5| 13|   23|  33| 0.04433709665847194|0.001769583980190...|\n",
      "|      1.0|      37|      10|2015|    5| 13|   23|  30| 0.04302986069898061|0.001778348413053...|\n",
      "|      1.0|      37|       7|2015|    5| 13|   23|  30| 0.03719848867946867|0.001217432922095...|\n",
      "|      1.0|      37|       6|2015|    5| 13|   23|  30|0.054820916306646504|1.061666958370074...|\n",
      "|      1.0|      34|       6|2015|    5| 13|   23|  30|0.044851609540570096|3.300500657010469E-4|\n",
      "|      1.0|      34|       2|2015|    5| 13|   23|  30| 0.07070161543292368|3.764438919341884...|\n",
      "|      1.0|      37|       9|2015|    5| 13|   23|   0|0.002705561862066...|0.001314198716421...|\n",
      "|      1.0|      37|       3|2015|    5| 13|   23|   0| 0.04695689925227035|0.001910852483509...|\n",
      "|      1.0|      37|       3|2015|    5| 13|   22|  58| 0.04695689925227035|0.001910852483509...|\n",
      "|      1.0|       8|       4|2015|    5| 13|   22|  30| 0.01274257822084441|5.696390079869439E-4|\n",
      "|      1.0|      30|       5|2015|    5| 13|   22|  30|0.050271000245853466|0.001436636583780...|\n",
      "|      1.0|      37|      10|2015|    5| 13|   22|   6| 0.04009027335474464|0.001462444414447...|\n",
      "|      1.0|      35|       2|2015|    5| 13|   22|   0|0.057556225727661725|4.217780954104323...|\n",
      "|      1.0|      35|       2|2015|    5| 13|   22|   0|  0.0645350842811295|6.752455039667556E-4|\n",
      "|      1.0|      23|       5|2015|    5| 13|   22|   0|  0.0501800637238011|0.001454387465874514|\n",
      "|      1.0|      16|       6|2015|    5| 13|   21|  55|  0.0456687582906726|6.682302690681396E-4|\n",
      "|      1.0|       8|       2|2015|    5| 13|   21|  40| 0.06318957901877845|5.948213244559316E-4|\n",
      "|      1.0|      35|       5|2015|    5| 13|   21|  30|0.050352691004074884|0.001428079534591...|\n",
      "+---------+--------+--------+----+-----+---+-----+----+--------------------+--------------------+\n",
      "only showing top 20 rows\n",
      "\n"
     ]
    },
    {
     "name": "stderr",
     "output_type": "stream",
     "text": [
      "                                                                                \r"
     ]
    }
   ],
   "source": [
    "df_training = spark.read.csv(\"crime/train.csv\",header=True)\n",
    "\n",
    "df_training.show(20)\n",
    "\n",
    "df_training.dtypes\n",
    "\n",
    "df_training.dropDuplicates().show()\n",
    "\n",
    "df_training=df_training.drop('Descript','Resolution','Address')\n",
    "df_training.show()\n",
    "\n",
    "#Convert non numerical to numerical\n",
    "from pyspark.sql.functions import *\n",
    "from itertools import chain\n",
    "data_dict = {'FRAUD':1, 'SUICIDE':2, 'SEX OFFENSES FORCIBLE':3, 'LIQUOR LAWS':4, \n",
    "'SECONDARY CODES':5, 'FAMILY OFFENSES':6, 'MISSING PERSON':7, 'OTHER OFFENSES':8, \n",
    "'DRIVING UNDER THE INFLUENCE':9, 'WARRANTS':10, 'ARSON':11, 'SEX OFFENSES NON FORCIBLE':12,\n",
    "'FORGERY/COUNTERFEITING':13, 'GAMBLING':14, 'BRIBERY':15, 'ASSAULT':16, 'DRUNKENNESS':17,\n",
    "'EXTORTION':18, 'TREA':19, 'WEAPON LAWS':20, 'LOITERING':21, 'SUSPICIOUS OCC':22, \n",
    "'ROBBERY':23, 'PROSTITUTION':24, 'EMBEZZLEMENT':25, 'BAD CHECKS':26, 'DISORDERLY CONDUCT':27,\n",
    "'RUNAWAY':28, 'RECOVERED VEHICLE':29, 'VANDALISM':30,'DRUG/NARCOTIC':31, \n",
    "'PORNOGRAPHY/OBSCENE MAT':32, 'TRESPASS':33,'VEHICLE THEFT':34, 'NON-CRIMINAL':35, \n",
    "'STOLEN PROPERTY':36, 'LARCENY/THEFT':37, 'KIDNAPPING':38,'BURGLARY':39}\n",
    "\n",
    "mapping_expr1 = create_map([lit(x) for x in chain(*data_dict.items())])\n",
    "df_training=df_training.withColumn(\"category\", mapping_expr1.getItem(col(\"Category\")))\n",
    "\n",
    "pddis={'MISSION':1,'BAYVIEW':2,'CENTRAL':3,'TARAVAL':4, 'TENDERLOIN':5,'INGLESIDE':6, 'PARK':7,'SOUTHERN':8, 'RICHMOND':9,'NORTHERN':10}\n",
    "mapping_expr2 = create_map([lit(x) for x in chain(*pddis.items())])\n",
    "df_training=df_training.withColumn(\"District\", mapping_expr2.getItem(col(\"PdDistrict\")))\n",
    "\n",
    "from pyspark.ml.feature import StringIndexer \n",
    "# indexer = StringIndexer(inputCol=\"Category\" , outputCol=\"category\")\n",
    "# df_training= indexer.fit(df_training).transform(df_training)\n",
    "index= StringIndexer(inputCol=\"DayOfWeek\" , outputCol=\"DayofWeek\")\n",
    "df_training= index.fit(df_training).transform(df_training)\n",
    "# index= StringIndexer(inputCol=\"PdDistrict\" , outputCol=\"District\")\n",
    "# df_training= index.fit(df_training).transform(df_training)\n",
    "df_training.show()\n",
    "\n",
    "from pyspark.sql.types import DoubleType\n",
    "df_training = df_training.withColumn(\"X\", df_training[\"X\"].cast(DoubleType()))\n",
    "df_training = df_training.withColumn(\"Y\", df_training[\"Y\"].cast(DoubleType()))\n",
    "df_training.show()\n",
    "\n",
    "df_training=df_training.drop('PdDistrict')\n",
    "df_training.show()\n",
    "\n",
    "df_training.dtypes\n",
    "\n",
    "cat=df_training.groupby('category').count()\n",
    "cat.orderBy(\"category\").show()\n",
    "\n",
    "df_training.groupby('District').count().show()\n",
    "\n",
    "import pyspark.sql.functions as F\n",
    "split_col = pyspark.sql.functions.split(df_training['Dates'], ' ')\n",
    "df_training = df_training.withColumn('Date', split_col.getItem(0))\n",
    "df_training = df_training.withColumn('Time', split_col.getItem(1))\n",
    "\n",
    "split_col = pyspark.sql.functions.split(df_training['Date'], '-')\n",
    "df_training = df_training.withColumn('Year', split_col.getItem(0))\n",
    "df_training = df_training.withColumn('Month', split_col.getItem(1))\n",
    "df_training = df_training.withColumn('Day', split_col.getItem(2))\n",
    "split_col = pyspark.sql.functions.split(df_training['Time'], ':')\n",
    "df_training = df_training.withColumn('Hours', split_col.getItem(0))\n",
    "df_training = df_training.withColumn('Mins', split_col.getItem(1))\n",
    "df_training = df_training.withColumn('Secs', split_col.getItem(2))\n",
    "df_training.show()\n",
    "\n",
    "df_training=df_training.drop('Dates','Time','Date')\n",
    "\n",
    "df_training.show()\n",
    "\n",
    "df_training.dtypes\n",
    "\n",
    "#normalize X and Y\n",
    "from pyspark.ml.feature import VectorAssembler, StandardScaler\n",
    "from pyspark.ml.feature import MinMaxScaler\n",
    "from pyspark.ml.functions import vector_to_array\n",
    "\n",
    "vector_assembler = VectorAssembler(inputCols=['X','Y'], outputCol=\"SS_features\")\n",
    "indexed = vector_assembler.transform(df_training)\n",
    "minmax_scaler = MinMaxScaler(inputCol=\"SS_features\", outputCol=\"scaled\")\n",
    "scaled = minmax_scaler.fit(indexed).transform(indexed)\n",
    "scaled=scaled.withColumn(\"s\", vector_to_array(\"scaled\")).select(['DayofWeek','category','District','Year','Month','Day','Hours','Mins']+[col(\"s\")[i] for i in range(2)])\n",
    "\n",
    "\n",
    "df_training= scaled\n",
    "from pyspark.sql.types import IntegerType\n",
    "df_training=df_training.withColumn(\"Year\",df_training.Year.cast(IntegerType()))\n",
    "df_training=df_training.withColumn(\"Month\",df_training.Month.cast(IntegerType()))\n",
    "df_training=df_training.withColumn(\"Day\",df_training.Day.cast(IntegerType()))\n",
    "df_training=df_training.withColumn(\"Hours\",df_training.Hours.cast(IntegerType()))\n",
    "df_training=df_training.withColumn(\"Mins\",df_training.Mins.cast(IntegerType()))\n",
    "\n",
    "df_training.show()\n",
    "\n",
    "df_training = df_training.drop('Secs')\n",
    "df_training.dtypes\n",
    "\n",
    "pandasDF = df_training.toPandas()"
   ]
  },
  {
   "cell_type": "code",
   "execution_count": 27,
   "id": "20544c19",
   "metadata": {},
   "outputs": [
    {
     "data": {
      "text/html": [
       "<div>\n",
       "<style scoped>\n",
       "    .dataframe tbody tr th:only-of-type {\n",
       "        vertical-align: middle;\n",
       "    }\n",
       "\n",
       "    .dataframe tbody tr th {\n",
       "        vertical-align: top;\n",
       "    }\n",
       "\n",
       "    .dataframe thead th {\n",
       "        text-align: right;\n",
       "    }\n",
       "</style>\n",
       "<table border=\"1\" class=\"dataframe\">\n",
       "  <thead>\n",
       "    <tr style=\"text-align: right;\">\n",
       "      <th></th>\n",
       "      <th>index</th>\n",
       "      <th>DayofWeek</th>\n",
       "      <th>category</th>\n",
       "      <th>District</th>\n",
       "      <th>Year</th>\n",
       "      <th>Month</th>\n",
       "      <th>Day</th>\n",
       "      <th>Hours</th>\n",
       "      <th>Mins</th>\n",
       "      <th>s[0]</th>\n",
       "      <th>s[1]</th>\n",
       "    </tr>\n",
       "  </thead>\n",
       "  <tbody>\n",
       "    <tr>\n",
       "      <th>0</th>\n",
       "      <td>0</td>\n",
       "      <td>1.0</td>\n",
       "      <td>10</td>\n",
       "      <td>10</td>\n",
       "      <td>2015</td>\n",
       "      <td>5</td>\n",
       "      <td>13</td>\n",
       "      <td>23</td>\n",
       "      <td>53</td>\n",
       "      <td>0.043578</td>\n",
       "      <td>0.001276</td>\n",
       "    </tr>\n",
       "    <tr>\n",
       "      <th>1</th>\n",
       "      <td>1</td>\n",
       "      <td>1.0</td>\n",
       "      <td>8</td>\n",
       "      <td>10</td>\n",
       "      <td>2015</td>\n",
       "      <td>5</td>\n",
       "      <td>13</td>\n",
       "      <td>23</td>\n",
       "      <td>53</td>\n",
       "      <td>0.043578</td>\n",
       "      <td>0.001276</td>\n",
       "    </tr>\n",
       "    <tr>\n",
       "      <th>2</th>\n",
       "      <td>2</td>\n",
       "      <td>1.0</td>\n",
       "      <td>8</td>\n",
       "      <td>10</td>\n",
       "      <td>2015</td>\n",
       "      <td>5</td>\n",
       "      <td>13</td>\n",
       "      <td>23</td>\n",
       "      <td>33</td>\n",
       "      <td>0.044337</td>\n",
       "      <td>0.001770</td>\n",
       "    </tr>\n",
       "    <tr>\n",
       "      <th>3</th>\n",
       "      <td>3</td>\n",
       "      <td>1.0</td>\n",
       "      <td>37</td>\n",
       "      <td>10</td>\n",
       "      <td>2015</td>\n",
       "      <td>5</td>\n",
       "      <td>13</td>\n",
       "      <td>23</td>\n",
       "      <td>30</td>\n",
       "      <td>0.043030</td>\n",
       "      <td>0.001778</td>\n",
       "    </tr>\n",
       "    <tr>\n",
       "      <th>4</th>\n",
       "      <td>4</td>\n",
       "      <td>1.0</td>\n",
       "      <td>37</td>\n",
       "      <td>7</td>\n",
       "      <td>2015</td>\n",
       "      <td>5</td>\n",
       "      <td>13</td>\n",
       "      <td>23</td>\n",
       "      <td>30</td>\n",
       "      <td>0.037198</td>\n",
       "      <td>0.001217</td>\n",
       "    </tr>\n",
       "    <tr>\n",
       "      <th>...</th>\n",
       "      <td>...</td>\n",
       "      <td>...</td>\n",
       "      <td>...</td>\n",
       "      <td>...</td>\n",
       "      <td>...</td>\n",
       "      <td>...</td>\n",
       "      <td>...</td>\n",
       "      <td>...</td>\n",
       "      <td>...</td>\n",
       "      <td>...</td>\n",
       "      <td>...</td>\n",
       "    </tr>\n",
       "    <tr>\n",
       "      <th>878044</th>\n",
       "      <td>878044</td>\n",
       "      <td>5.0</td>\n",
       "      <td>23</td>\n",
       "      <td>4</td>\n",
       "      <td>2003</td>\n",
       "      <td>1</td>\n",
       "      <td>6</td>\n",
       "      <td>0</td>\n",
       "      <td>15</td>\n",
       "      <td>0.027120</td>\n",
       "      <td>0.000118</td>\n",
       "    </tr>\n",
       "    <tr>\n",
       "      <th>878045</th>\n",
       "      <td>878045</td>\n",
       "      <td>5.0</td>\n",
       "      <td>37</td>\n",
       "      <td>6</td>\n",
       "      <td>2003</td>\n",
       "      <td>1</td>\n",
       "      <td>6</td>\n",
       "      <td>0</td>\n",
       "      <td>1</td>\n",
       "      <td>0.032915</td>\n",
       "      <td>0.000460</td>\n",
       "    </tr>\n",
       "    <tr>\n",
       "      <th>878046</th>\n",
       "      <td>878046</td>\n",
       "      <td>5.0</td>\n",
       "      <td>37</td>\n",
       "      <td>8</td>\n",
       "      <td>2003</td>\n",
       "      <td>1</td>\n",
       "      <td>6</td>\n",
       "      <td>0</td>\n",
       "      <td>1</td>\n",
       "      <td>0.054752</td>\n",
       "      <td>0.001384</td>\n",
       "    </tr>\n",
       "    <tr>\n",
       "      <th>878047</th>\n",
       "      <td>878047</td>\n",
       "      <td>5.0</td>\n",
       "      <td>30</td>\n",
       "      <td>8</td>\n",
       "      <td>2003</td>\n",
       "      <td>1</td>\n",
       "      <td>6</td>\n",
       "      <td>0</td>\n",
       "      <td>1</td>\n",
       "      <td>0.061138</td>\n",
       "      <td>0.001391</td>\n",
       "    </tr>\n",
       "    <tr>\n",
       "      <th>878048</th>\n",
       "      <td>878048</td>\n",
       "      <td>5.0</td>\n",
       "      <td>13</td>\n",
       "      <td>2</td>\n",
       "      <td>2003</td>\n",
       "      <td>1</td>\n",
       "      <td>6</td>\n",
       "      <td>0</td>\n",
       "      <td>1</td>\n",
       "      <td>0.058956</td>\n",
       "      <td>0.000580</td>\n",
       "    </tr>\n",
       "  </tbody>\n",
       "</table>\n",
       "<p>878049 rows × 11 columns</p>\n",
       "</div>"
      ],
      "text/plain": [
       "         index  DayofWeek  category  District  Year  Month  Day  Hours  Mins  \\\n",
       "0            0        1.0        10        10  2015      5   13     23    53   \n",
       "1            1        1.0         8        10  2015      5   13     23    53   \n",
       "2            2        1.0         8        10  2015      5   13     23    33   \n",
       "3            3        1.0        37        10  2015      5   13     23    30   \n",
       "4            4        1.0        37         7  2015      5   13     23    30   \n",
       "...        ...        ...       ...       ...   ...    ...  ...    ...   ...   \n",
       "878044  878044        5.0        23         4  2003      1    6      0    15   \n",
       "878045  878045        5.0        37         6  2003      1    6      0     1   \n",
       "878046  878046        5.0        37         8  2003      1    6      0     1   \n",
       "878047  878047        5.0        30         8  2003      1    6      0     1   \n",
       "878048  878048        5.0        13         2  2003      1    6      0     1   \n",
       "\n",
       "            s[0]      s[1]  \n",
       "0       0.043578  0.001276  \n",
       "1       0.043578  0.001276  \n",
       "2       0.044337  0.001770  \n",
       "3       0.043030  0.001778  \n",
       "4       0.037198  0.001217  \n",
       "...          ...       ...  \n",
       "878044  0.027120  0.000118  \n",
       "878045  0.032915  0.000460  \n",
       "878046  0.054752  0.001384  \n",
       "878047  0.061138  0.001391  \n",
       "878048  0.058956  0.000580  \n",
       "\n",
       "[878049 rows x 11 columns]"
      ]
     },
     "execution_count": 27,
     "metadata": {},
     "output_type": "execute_result"
    }
   ],
   "source": [
    "pandasDF.reset_index()"
   ]
  },
  {
   "cell_type": "code",
   "execution_count": 28,
   "id": "bf46db58",
   "metadata": {},
   "outputs": [],
   "source": [
    "df3 = pandasDF\n",
    "from sklearn.model_selection import train_test_split\n",
    "train, _ = train_test_split(df3)\n",
    "f=['District','s[0]','s[1]','Hours','Year','Month','Day','Mins']\n",
    "X_train=train[f].values\n",
    "y_train=train['category'].values\n"
   ]
  },
  {
   "cell_type": "markdown",
   "id": "35bb7575",
   "metadata": {},
   "source": [
    "# Stochastic Gradient Descent Classifier"
   ]
  },
  {
   "cell_type": "code",
   "execution_count": 29,
   "id": "0e06edfc",
   "metadata": {},
   "outputs": [
    {
     "name": "stdout",
     "output_type": "stream",
     "text": [
      "[32. 32. 32. ... 32. 32. 32.]\n"
     ]
    }
   ],
   "source": [
    "from sklearn import linear_model\n",
    "from sklearn.linear_model import SGDClassifier\n",
    "sgdmodel = linear_model.SGDClassifier(loss='hinge', penalty='l2', alpha=0.1, l1_ratio=0.15, fit_intercept=True, random_state=20, learning_rate='adaptive',eta0=0.01)\n",
    "import numpy as np\n",
    "classes=np.arange(1.0,40.0)\n",
    "sgdmodel.partial_fit(X_train,y_train,classes=classes)\n",
    "\n",
    "y_pred_sgd = sgdmodel.predict(test)\n",
    "print(y_pred_sgd)"
   ]
  },
  {
   "cell_type": "markdown",
   "id": "2e1da50a",
   "metadata": {},
   "source": [
    "# Multinomial Naive Bayes"
   ]
  },
  {
   "cell_type": "code",
   "execution_count": 30,
   "id": "3ed94078",
   "metadata": {},
   "outputs": [
    {
     "name": "stdout",
     "output_type": "stream",
     "text": [
      "[31. 31. 31. ... 25. 25. 25.]\n"
     ]
    }
   ],
   "source": [
    "# Multinomial Naive Bayes\n",
    "\n",
    "from sklearn.naive_bayes import MultinomialNB\n",
    "mnb=MultinomialNB(alpha=0.01, fit_prior=True, class_prior=None)\n",
    "import numpy as np\n",
    "classes=np.arange(1.0,40.0)\n",
    "mnb.partial_fit(X_train,y_train,classes=classes)\n",
    "\n",
    "y_pred_mnb =mnb.predict(test)\n",
    "print(y_pred_mnb)"
   ]
  },
  {
   "cell_type": "markdown",
   "id": "0a495b4c",
   "metadata": {},
   "source": [
    "# Multi Layer Perceptron"
   ]
  },
  {
   "cell_type": "code",
   "execution_count": 31,
   "id": "d73ca430",
   "metadata": {},
   "outputs": [
    {
     "name": "stdout",
     "output_type": "stream",
     "text": [
      "[37. 37. 37. ... 37. 37. 37.]\n"
     ]
    }
   ],
   "source": [
    "from sklearn.neural_network import MLPClassifier\n",
    "\n",
    "mlp_gs = MLPClassifier(max_iter=100,activation='tanh',alpha=0.0001)\n",
    "import numpy as np\n",
    "classes=np.arange(1.0,40.0)\n",
    "mlp_gs.partial_fit(X_train,y_train,classes=classes)\n",
    "\n",
    "y_pred_mlp = mlp_gs.predict(test)\n",
    "print(y_pred_mlp)"
   ]
  },
  {
   "cell_type": "code",
   "execution_count": 37,
   "id": "3478051f",
   "metadata": {},
   "outputs": [
    {
     "name": "stdout",
     "output_type": "stream",
     "text": [
      "884262\n"
     ]
    },
    {
     "data": {
      "image/png": "[encoded data removed]",
      "text/plain": [
       "<Figure size 1440x720 with 1 Axes>"
      ]
     },
     "metadata": {
      "needs_background": "light"
     },
     "output_type": "display_data"
    }
   ],
   "source": [
    "import matplotlib.pyplot as plt\n",
    "print(len(y_pred_sgd))\n",
    "x_axis = list(range(len(y_pred_sgd[0:1000])))\n",
    "\n",
    "# plotting the points\n",
    "fig = plt.figure(figsize =(20, 10))\n",
    "\n",
    "plt.plot( y_pred_sgd[0:1000])\n",
    "plt.plot( y_pred_mnb[0:1000])\n",
    "plt.plot(y_pred_mlp[0:1000],'Dm')\n",
    "    \n",
    "# naming the x axis \n",
    "plt.xlabel('samples') \n",
    "# naming the y axis \n",
    "plt.ylabel('category') \n",
    "    \n",
    "# giving a title to my graph \n",
    "plt.title('predictions') \n",
    "plt.legend(['StochasticGradientDescent', 'MultinomialNaiveBayes', 'MultiLayerPerceptron'])\n",
    "# function to show the plot \n",
    "plt.show() \n"
   ]
  },
  {
   "cell_type": "code",
   "execution_count": null,
   "id": "d8d45f9a",
   "metadata": {},
   "outputs": [],
   "source": []
  }
 ],
 "metadata": {
  "kernelspec": {
   "display_name": "Python 3 (ipykernel)",
   "language": "python",
   "name": "python3"
  },
  "language_info": {
   "codemirror_mode": {
    "name": "ipython",
    "version": 3
   },
   "file_extension": ".py",
   "mimetype": "text/x-python",
   "name": "python",
   "nbconvert_exporter": "python",
   "pygments_lexer": "ipython3",
   "version": "3.9.7"
  }
 },
 "nbformat": 4,
 "nbformat_minor": 5
}
